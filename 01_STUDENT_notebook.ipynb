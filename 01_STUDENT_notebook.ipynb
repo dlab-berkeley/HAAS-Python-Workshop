{
 "cells": [
  {
   "attachments": {},
   "cell_type": "markdown",
   "id": "ecd3ecd0",
   "metadata": {},
   "source": [
    "Welcome to Python (in Jupyter Notebook)!. We will be working together to fill in the cells in this notebook.  "
   ]
  },
  {
   "cell_type": "markdown",
   "id": "cab551a8",
   "metadata": {},
   "source": [
    "### Entering Code\n",
    "Before we load the data, let's talk a little more about how Python is and isn't like the Excel formula editor (the place you've been doing your coding in excel).  \n",
    "Just like in Excel, you can enter code or formula into each cell of this jupyter notebook. **press \"Run\" or shift+enter to see the result**"
   ]
  },
  {
   "cell_type": "markdown",
   "id": "4e04fcc3",
   "metadata": {},
   "source": [
    "![helloclass](images/image(6).png)"
   ]
  },
  {
   "cell_type": "code",
   "execution_count": null,
   "id": "6d97d4c7",
   "metadata": {},
   "outputs": [],
   "source": []
  },
  {
   "cell_type": "markdown",
   "id": "d2f4f2a4",
   "metadata": {},
   "source": [
    "![math](images/image(7).png)"
   ]
  },
  {
   "cell_type": "code",
   "execution_count": null,
   "id": "d4df8d75",
   "metadata": {},
   "outputs": [],
   "source": []
  },
  {
   "cell_type": "markdown",
   "id": "11d6ed52",
   "metadata": {},
   "source": [
    "![myimg](images/image(14).png)"
   ]
  },
  {
   "cell_type": "code",
   "execution_count": null,
   "id": "5b038235",
   "metadata": {},
   "outputs": [],
   "source": []
  },
  {
   "cell_type": "markdown",
   "id": "d3f42241",
   "metadata": {},
   "source": [
    "### Assigning Variables\n",
    "In Excel, when you type a formula, its result is being assigned to a cell.  \n",
    "For example, here I am putting the formula **CONCAT(\"hello\", \" peter\")** into cell A1.  \n",
    "You can think of this as a line of code:\n",
    "    \n",
    "    A1 = CONCAT(\"hello\", \" peter\")\n",
    "    \n",
    "![myimg](images/image(14).png)"
   ]
  },
  {
   "cell_type": "markdown",
   "id": "8d94a43d",
   "metadata": {},
   "source": [
    "In Python, the same code would look like this (in Python you can use + instead of CONCAT):"
   ]
  },
  {
   "cell_type": "code",
   "execution_count": null,
   "id": "4804e497",
   "metadata": {},
   "outputs": [],
   "source": []
  },
  {
   "cell_type": "markdown",
   "id": "39f861b5",
   "metadata": {},
   "source": [
    "You can view the value assigned to a variable by typing the variable into a cell then running it (shift+enter)"
   ]
  },
  {
   "cell_type": "code",
   "execution_count": null,
   "id": "c83aa72f",
   "metadata": {},
   "outputs": [],
   "source": []
  },
  {
   "cell_type": "markdown",
   "id": "71ff4b97",
   "metadata": {},
   "source": [
    "In Python you can use any word to name a variable (as long as it doesn't have spaces or any special character besides the underscore _)"
   ]
  },
  {
   "cell_type": "code",
   "execution_count": null,
   "id": "0b310037",
   "metadata": {},
   "outputs": [],
   "source": []
  },
  {
   "cell_type": "code",
   "execution_count": null,
   "id": "51468f02",
   "metadata": {},
   "outputs": [],
   "source": []
  },
  {
   "cell_type": "markdown",
   "id": "44fd87e3",
   "metadata": {},
   "source": [
    "Try to make your variable names as intuitive and clear as possible. I constantly forget what the variable names I come up with mean"
   ]
  },
  {
   "cell_type": "code",
   "execution_count": null,
   "id": "478209c3",
   "metadata": {},
   "outputs": [],
   "source": []
  },
  {
   "cell_type": "code",
   "execution_count": null,
   "id": "b7dbdc9f",
   "metadata": {},
   "outputs": [],
   "source": []
  },
  {
   "cell_type": "markdown",
   "id": "49fa3b55",
   "metadata": {},
   "source": [
    "The biggest difference here is that we can't see what all of our assigned variables are in a clean spreadsheet layout like in Excel. We assign values to variables rather than positioning them in a spreadsheet, and we have to consult our earlier code to remember that we've already assigned the following variables:\n",
    "    \n",
    "    A1\n",
    "    result\n",
    "    one_hundred_dogs"
   ]
  },
  {
   "cell_type": "markdown",
   "id": "b65a0461",
   "metadata": {},
   "source": [
    "### Functions\n",
    "Functions actually work pretty similarly in Excel and in Python. You type the name of the function then parenthesis, then whatever inputs the function requires:\n",
    "    \n",
    "    Excel -> SUM()\n",
    "    Python -> sum()\n",
    "    \n",
    "One of the biggest differences is that it's a lot easier to write custom functions in Python, but we won't be getting into that. Consider the code in Excel for adding up a list of numbers, in this case 1, 2, 3, 4. SUM(A1:A4)  \n",
    "![myimg](images/image(12).png)"
   ]
  },
  {
   "cell_type": "markdown",
   "id": "abf2c29b",
   "metadata": {},
   "source": [
    "The process in Python is very similar"
   ]
  },
  {
   "cell_type": "code",
   "execution_count": null,
   "id": "d55e2aa3",
   "metadata": {},
   "outputs": [],
   "source": []
  },
  {
   "cell_type": "code",
   "execution_count": null,
   "id": "7d12c037",
   "metadata": {},
   "outputs": [],
   "source": []
  },
  {
   "cell_type": "code",
   "execution_count": null,
   "id": "cbf334e1",
   "metadata": {},
   "outputs": [],
   "source": []
  },
  {
   "attachments": {},
   "cell_type": "markdown",
   "id": "344f9a71",
   "metadata": {},
   "source": [
    "<h1> <mark> Challenge 1 </mark>: Let's try combining functions </h1>  \n",
    "\n",
    "Using sum and length, try calculating the average of the list and saving the result to a variable, `average`."
   ]
  },
  {
   "cell_type": "code",
   "execution_count": null,
   "id": "4537441c",
   "metadata": {},
   "outputs": [],
   "source": [
    "# YOUR CODE HERE"
   ]
  },
  {
   "cell_type": "code",
   "execution_count": null,
   "id": "db2a646a",
   "metadata": {},
   "outputs": [],
   "source": [
    "average"
   ]
  },
  {
   "cell_type": "markdown",
   "id": "c9e513b9",
   "metadata": {},
   "source": [
    "### Data Analysis\n",
    "OK, congrats you now get the basics of what Python is. There are a lot of important topics we are going to not cover today -  \n",
    "- [iteration (for, while)](https://www.w3schools.com/python/python_for_loops.asp)  \n",
    "- [logical operators (and, or, if)](https://www.w3schools.com/python/python_conditions.asp) \n",
    "- [defining functions](https://www.w3schools.com/python/python_functions.asp) \n",
    "- [other data types (dictionaries, tuples)](https://www.w3schools.com/python/python_dictionaries.asp)\n",
    "- [etc.](https://www.w3schools.com/python/default.asp)\n",
    "\n",
    "I want us to get into using Python for actual tasks as quickly as possible, so we are going to leverage what's built into the Pandas library now, because that's what you would actually be doing most of the time if you were using Python for work."
   ]
  },
  {
   "attachments": {},
   "cell_type": "markdown",
   "id": "c3808f6a",
   "metadata": {},
   "source": [
    "If you want to get a more comprehensive introduction to Python, look out for offerings of the Python Fundamentals workshop in the [D-Lab's event calendar](https://dlab.berkeley.edu/events/workshops)."
   ]
  },
  {
   "cell_type": "markdown",
   "id": "04b88a97",
   "metadata": {},
   "source": [
    "The following code will load the Pandas library and make it so that we can reference Pandas by just typing in pd (it's like a nickname)  \n",
    "I also include a tiny bit of code that makes it so that Pandas won't use scientific notation and will instead round numbers to the sixth decimal place. This is personal preference (I never know what scientific notation means)"
   ]
  },
  {
   "cell_type": "code",
   "execution_count": null,
   "id": "6538cfe0",
   "metadata": {},
   "outputs": [],
   "source": [
    "import pandas as pd\n",
    "pd.options.display.float_format = '{:.6f}'.format"
   ]
  },
  {
   "cell_type": "code",
   "execution_count": null,
   "id": "c3a5e704",
   "metadata": {},
   "outputs": [],
   "source": [
    "pd"
   ]
  },
  {
   "cell_type": "markdown",
   "id": "bd7ec599",
   "metadata": {},
   "source": [
    "### Loading Data\n",
    "In Excel, loading data is as simple as double clicking a .xlsx file or a .csv file. In Python and Pandas, opening a file is a little different. It needs to be in the same folder as your Jupyter notebook file, and you open it with a Pandas function, like one of the following (depending on whether your file is .csv or .xlsx): \n",
    "    \n",
    "    pd.read_csv()\n",
    "    pd.read_excel()\n",
    "by typing pd. you get access to all of the functions that Pandas comes with    "
   ]
  },
  {
   "cell_type": "code",
   "execution_count": null,
   "id": "255d9ecd",
   "metadata": {},
   "outputs": [],
   "source": []
  },
  {
   "cell_type": "markdown",
   "id": "e3ac52c0",
   "metadata": {},
   "source": [
    "That code read the data in, but we need to save into our python environment if we want to keep working with it.  \n",
    "Let's assign the result of pd.read_csv() to a variable called df (short for data frame), which we’ll use to refer to our data in the future"
   ]
  },
  {
   "cell_type": "code",
   "execution_count": null,
   "id": "13a38d23",
   "metadata": {},
   "outputs": [],
   "source": []
  },
  {
   "cell_type": "markdown",
   "id": "3a44228b",
   "metadata": {},
   "source": [
    "When we type in df, we can see our table"
   ]
  },
  {
   "cell_type": "code",
   "execution_count": null,
   "id": "dc957a1f",
   "metadata": {},
   "outputs": [],
   "source": []
  },
  {
   "cell_type": "markdown",
   "id": "5f7e6bf0",
   "metadata": {},
   "source": [
    "### Getting Descriptive Statistics\n",
    "In Excel, we could use analysis toolpak and be able to get descriptive statistics for a given column like this (here I'm getting the descriptive statistics for the constant aid amounts):\n",
    "![stats](images/image(11).png)"
   ]
  },
  {
   "cell_type": "markdown",
   "id": "c3112e28",
   "metadata": {},
   "source": [
    "In Pandas, we reference specific columns like this:"
   ]
  },
  {
   "cell_type": "code",
   "execution_count": null,
   "id": "59bf89c2",
   "metadata": {},
   "outputs": [],
   "source": []
  },
  {
   "cell_type": "markdown",
   "id": "a5784212",
   "metadata": {},
   "source": [
    "While using Pandas, we can access general Pandas functions by typing pd then any given function\n",
    "    \n",
    "    pd.function()\n",
    "But we can also access functions in other more specialized ways. Pandas has a number of specific functions that are for anlyzing and processing columns of data. to access those, you select a column\n",
    "    \n",
    "    df[\"current_amount\"]\n",
    "then you type . and can access a number of functions for columns (the technical term is method instead of function, but the distinction isn't important right now)\n",
    "    \n",
    "    df[\"current_amount\"].describe()"
   ]
  },
  {
   "cell_type": "code",
   "execution_count": null,
   "id": "ec8266b2",
   "metadata": {},
   "outputs": [],
   "source": []
  },
  {
   "cell_type": "markdown",
   "id": "97d4b728",
   "metadata": {},
   "source": [
    "Note that describe() is the Pandas function for getting descriptive statistics from a column.  \n",
    "Here are a few other column functions"
   ]
  },
  {
   "cell_type": "code",
   "execution_count": null,
   "id": "df8f0381",
   "metadata": {},
   "outputs": [],
   "source": []
  },
  {
   "cell_type": "code",
   "execution_count": null,
   "id": "163782fa",
   "metadata": {},
   "outputs": [],
   "source": []
  },
  {
   "cell_type": "code",
   "execution_count": null,
   "id": "f00f4d00",
   "metadata": {},
   "outputs": [],
   "source": []
  },
  {
   "cell_type": "markdown",
   "id": "f421a79f",
   "metadata": {},
   "source": [
    "### Sorting"
   ]
  },
  {
   "cell_type": "markdown",
   "id": "85119bc7",
   "metadata": {},
   "source": [
    "Here is a basic sort from largest to smallest in Excel.\n",
    "![sort](images/image(5).png)\n",
    "\n",
    "In Pandas, sorting is one of the special functions for use on full datasets (not single columns), so you can get access to the sorting function by typing . after a variable that contains a dataset. We have the variable df containing all our data, so the notation will be \n",
    "    \n",
    "    df.sort_values()\n",
    "Many functions in Pandas and in Python generally can accept a lot of different arguments. For example, this is the full number of arguments you can add to df.sort_values()\n",
    "    \n",
    "    df.sort_values(\n",
    "        by,\n",
    "        axis=0,\n",
    "        ascending=True,\n",
    "        inplace=False,\n",
    "        kind='quicksort',\n",
    "        na_position='last',\n",
    "        ignore_index=False,\n",
    "        key: 'ValueKeyFunc' = None,\n",
    "    )\n",
    "Many of these are optional or else have default values, so you don't need to explicitly add those arguments in.  \n",
    "In our case, we will just be supplying two arguments, \"by\" which is the column we want to sort everything on, and \"ascending\" which we will set to False because we want the data sorted descending (largest to smallest)"
   ]
  },
  {
   "cell_type": "code",
   "execution_count": null,
   "id": "6ce424f5",
   "metadata": {},
   "outputs": [],
   "source": []
  },
  {
   "cell_type": "markdown",
   "id": "ede748da",
   "metadata": {},
   "source": [
    "### Filtering\n",
    "In Excel, you filter data by applying a filter to the top row then clicking the drop down for the column you want to filter on, then selecting the values you want to isolate with your filter, in this case 2020:  \n",
    "![filter](images/image(10).png)"
   ]
  },
  {
   "cell_type": "markdown",
   "id": "d96505d5",
   "metadata": {},
   "source": [
    "In Python the process is a little different. We first have to create a \"mask column\" of True and False values - True if a given row is from Fiscal Year 2020, False otherwise. In Excel, that would look more like this:  \n",
    "![mask](images/image(9).png)\n",
    "And then filtering your data down to rows with TRUE, like this:\n",
    "![filtermask](images/image(8).png)"
   ]
  },
  {
   "cell_type": "markdown",
   "id": "33b28ae5",
   "metadata": {},
   "source": [
    "Here is how we make that \"mask column\" in Pandas, to see if each row has a Fiscal Year of 2020:"
   ]
  },
  {
   "cell_type": "code",
   "execution_count": null,
   "id": "a0fe528c",
   "metadata": {},
   "outputs": [],
   "source": []
  },
  {
   "cell_type": "markdown",
   "id": "3368630b",
   "metadata": {},
   "source": [
    "We can then apply our mask to the data using the following notation. This will filter the data down to only the rows where our \"mask column\" above is True."
   ]
  },
  {
   "cell_type": "code",
   "execution_count": null,
   "id": "383bcb63",
   "metadata": {},
   "outputs": [],
   "source": []
  },
  {
   "cell_type": "markdown",
   "id": "ecd95774",
   "metadata": {},
   "source": [
    "Let's save that to a variable, df_2020, so that we can use this filtered data later"
   ]
  },
  {
   "cell_type": "code",
   "execution_count": null,
   "id": "e8950633",
   "metadata": {},
   "outputs": [],
   "source": []
  },
  {
   "cell_type": "markdown",
   "id": "30691d7b",
   "metadata": {},
   "source": [
    "### Pivot Tables"
   ]
  },
  {
   "cell_type": "markdown",
   "id": "9c59d5d0",
   "metadata": {},
   "source": [
    "Here's an example of an Excel pivot table that counts up how many aid disbersements there were of each transaction type in FY2020\n",
    "![pivot](images/image(4).png)"
   ]
  },
  {
   "cell_type": "markdown",
   "id": "f1b92869",
   "metadata": {},
   "source": [
    "In Pandas, creating simple pivot tables that only deal with one column is done using the value_counts() function. This is a function that operates directly from a column, so you access it with the following notation:\n",
    "    \n",
    "    df[\"column_name\"].value_counts()\n",
    "Let's keep working with the df_2020 variable we made, which is the original data filtered down to just FY2020"
   ]
  },
  {
   "cell_type": "code",
   "execution_count": null,
   "id": "7aa665ff",
   "metadata": {},
   "outputs": [],
   "source": []
  },
  {
   "cell_type": "markdown",
   "id": "2ce29375",
   "metadata": {},
   "source": [
    "Here's a slightly more complex pivot table, and in this case we can't just use value_counts(), we will have to use the more powerful pivot_table() function"
   ]
  },
  {
   "cell_type": "markdown",
   "id": "4b394f97",
   "metadata": {},
   "source": [
    "![complexpivot](images/image(3).png)"
   ]
  },
  {
   "cell_type": "markdown",
   "id": "14c1b5c1",
   "metadata": {},
   "source": [
    "pivot_table() is a function that you access from a full dataset, so the general syntax is:\n",
    "    \n",
    "    df.pivot_table()\n",
    "Let's use this pivot_table() function on our filtered down df_2020 dataset"
   ]
  },
  {
   "cell_type": "code",
   "execution_count": null,
   "id": "77228767",
   "metadata": {},
   "outputs": [],
   "source": []
  },
  {
   "attachments": {},
   "cell_type": "markdown",
   "id": "ed616148",
   "metadata": {},
   "source": [
    "<h1><mark>Challenge 2</mark>: Let's save that </h1>  \n",
    "\n",
    "Let's save that into a variable, `pivot_table`  \n",
    "At that point, it's a standalone dataset, and we can apply full dataset functions, like sort_values(). Apply sort_values() to your pivot table in the second cell below."
   ]
  },
  {
   "cell_type": "code",
   "execution_count": null,
   "id": "63a10de3",
   "metadata": {},
   "outputs": [],
   "source": [
    "# Define the pivot table"
   ]
  },
  {
   "cell_type": "code",
   "execution_count": null,
   "id": "c24d96ae",
   "metadata": {},
   "outputs": [],
   "source": [
    "# Sort the pivot table"
   ]
  },
  {
   "cell_type": "markdown",
   "id": "20a6f809",
   "metadata": {},
   "source": [
    "Here's another slightly complex pivot table that sums up aid amounts for each fiscal year\n",
    "![pivotFY](images/image(2).png)"
   ]
  },
  {
   "cell_type": "code",
   "execution_count": null,
   "id": "e00f41a3",
   "metadata": {},
   "outputs": [],
   "source": []
  },
  {
   "cell_type": "markdown",
   "id": "a9d6df57",
   "metadata": {},
   "source": [
    "Let's save that into a variable, pivot_table_year, so we can keep using this dataset"
   ]
  },
  {
   "cell_type": "code",
   "execution_count": null,
   "id": "6a5a5702",
   "metadata": {},
   "outputs": [],
   "source": []
  },
  {
   "cell_type": "markdown",
   "id": "c13ce028",
   "metadata": {},
   "source": [
    "### VLOOKUP()\n",
    "in Pandas, instead of VLOOKUP(), we use pd.merge()  \n",
    "I think that as a function, pd.merge() is actually a bit simpler that VLOOKUP().  \n",
    "Before we use the function though, let's load another dataset that we will be VLOOKUP()ing into.  \n",
    "In this case, we have U.S. GDP data for each year since 1947"
   ]
  },
  {
   "cell_type": "code",
   "execution_count": null,
   "id": "fcb132db",
   "metadata": {},
   "outputs": [],
   "source": []
  },
  {
   "cell_type": "code",
   "execution_count": null,
   "id": "0cf471e8",
   "metadata": {},
   "outputs": [],
   "source": []
  },
  {
   "cell_type": "markdown",
   "id": "243541d4",
   "metadata": {},
   "source": [
    "The structure of a VLOOKUP() is:\n",
    "    \n",
    "    VLOOKUP(value_to_lookup, dataset_2, number_of_column_to_match_on, exact_or_inexact_match)\n",
    "The structure of pd.merge() will be:\n",
    "    \n",
    "    pd.merge(dataset_1, dataset_2, column_to_match_on)\n",
    " \n",
    "Note that there are many more optional arguments you can add to pd.merge(), but we are just using those three.  \n",
    "Here's the VLOOKUP() code to join pivot_table_year and gdp on fiscal year:  \n",
    "![vlook](images/image(1).png)"
   ]
  },
  {
   "cell_type": "code",
   "execution_count": null,
   "id": "64ed5971",
   "metadata": {},
   "outputs": [],
   "source": []
  },
  {
   "cell_type": "markdown",
   "id": "6e113c08",
   "metadata": {},
   "source": [
    "Now let's assign that new merged data set to a variable, df_merged so that we can keep using it"
   ]
  },
  {
   "cell_type": "code",
   "execution_count": null,
   "id": "c705a33b",
   "metadata": {},
   "outputs": [],
   "source": []
  },
  {
   "cell_type": "markdown",
   "id": "aa7439d4",
   "metadata": {},
   "source": [
    "### Calculating new columns\n",
    "In Excel, calculating a new column means applying a basic arithmetic formula to one cell, then applying that same forumula to the whole column.  \n",
    "![calc](images/image.png)\n",
    "\n",
    "  \n",
    "In Pandas, we can just apply arithmetic to entire columns, and it will automatically apply it row by row"
   ]
  },
  {
   "cell_type": "code",
   "execution_count": null,
   "id": "00f7adf3",
   "metadata": {},
   "outputs": [],
   "source": []
  },
  {
   "cell_type": "markdown",
   "id": "7c118c54",
   "metadata": {},
   "source": [
    "Let's save that calculated column as a new column in our dataset. We can do that by just referring to the new column name like so:  \n",
    "    \n",
    "    df_merged[\"amount_as_%_GDP\"]\n",
    "Then setting that column equal to the calculated column above"
   ]
  },
  {
   "cell_type": "code",
   "execution_count": null,
   "id": "8c7f5bf8",
   "metadata": {},
   "outputs": [],
   "source": []
  },
  {
   "cell_type": "code",
   "execution_count": null,
   "id": "eb21e5dc",
   "metadata": {},
   "outputs": [],
   "source": []
  },
  {
   "attachments": {},
   "cell_type": "markdown",
   "id": "58271774",
   "metadata": {},
   "source": [
    "### Plotting\n",
    "Plotting in Python can be a little bit complicated. Many of what are considered the best data visualization libraries (D3, Leaflet) are written in JavaScript rather than Python. Python has an (in)famous library, `matplotlib`, that can create just about any plot you can imagine, but it is very confusing.  \n",
    "\n",
    "Thankfully, we have access to a very simple plotting function in pandas that we will use to get a quick taste of plotting in Python.  \n",
    "`plot()` is a function that can apply to entire datasets, so we access it from a dataset variable\n",
    "    \n",
    "    df.plot(x, y)\n",
    "We will be using the df_merged dataset we made earlier"
   ]
  },
  {
   "cell_type": "code",
   "execution_count": null,
   "id": "c65bfca6",
   "metadata": {},
   "outputs": [],
   "source": []
  },
  {
   "cell_type": "code",
   "execution_count": null,
   "id": "a1b8880b",
   "metadata": {},
   "outputs": [],
   "source": []
  },
  {
   "attachments": {},
   "cell_type": "markdown",
   "id": "e21e9b73",
   "metadata": {},
   "source": [
    "We can change the style of the graph a little bit using matplotlib's built in styles. One of them is called \"fivethirtyeight\" as it attempts to mimic the style of graphs from the FiveThirtyEight website.\n",
    "\n",
    "<h1><mark>Challenge 3</mark>: FiveThirtyEight Plots </h1>\n",
    "In the cells below, re-make the plots from above, but this time in the \"fivethirtyeight\" style. Run the code below to load the new style."
   ]
  },
  {
   "cell_type": "code",
   "execution_count": null,
   "id": "2cc47dbd",
   "metadata": {},
   "outputs": [],
   "source": [
    "import matplotlib\n",
    "matplotlib.style.use('fivethirtyeight')"
   ]
  },
  {
   "cell_type": "code",
   "execution_count": null,
   "id": "fab352cc",
   "metadata": {},
   "outputs": [],
   "source": []
  },
  {
   "cell_type": "code",
   "execution_count": null,
   "id": "82e0f6d9",
   "metadata": {},
   "outputs": [],
   "source": []
  }
 ],
 "metadata": {
  "kernelspec": {
   "display_name": "Python 3.9.15 ('base')",
   "language": "python",
   "name": "python3"
  },
  "language_info": {
   "codemirror_mode": {
    "name": "ipython",
    "version": 3
   },
   "file_extension": ".py",
   "mimetype": "text/x-python",
   "name": "python",
   "nbconvert_exporter": "python",
   "pygments_lexer": "ipython3",
   "version": "3.9.15"
  },
  "vscode": {
   "interpreter": {
    "hash": "2fb3e3cc635cfb08fd7ff4ababbec3e46cec7b961d3626ef22719eb44f0b8a49"
   }
  }
 },
 "nbformat": 4,
 "nbformat_minor": 5
}
