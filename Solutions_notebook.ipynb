{
 "cells": [
  {
   "cell_type": "markdown",
   "id": "ecd3ecd0",
   "metadata": {},
   "source": [
    "Welcome to Python (in Jupyter Notebook)!  "
   ]
  },
  {
   "cell_type": "markdown",
   "id": "cab551a8",
   "metadata": {},
   "source": [
    "### Entering Code\n",
    "Before we load the data, let's talk a little more about how Python is and isn't like the Excel formula editor (the place you've been doing your coding in excel).  \n",
    "Just like in Excel, you can enter code or formula into each cell of this jupyter notebook. **press \"Run\" or shift+enter to see the result**"
   ]
  },
  {
   "cell_type": "markdown",
   "id": "4e04fcc3",
   "metadata": {},
   "source": [
    "![helloclass](images/image(6).png)"
   ]
  },
  {
   "cell_type": "code",
   "execution_count": 1,
   "id": "6d97d4c7",
   "metadata": {},
   "outputs": [
    {
     "data": {
      "text/plain": [
       "'hello class'"
      ]
     },
     "execution_count": 1,
     "metadata": {},
     "output_type": "execute_result"
    }
   ],
   "source": [
    "\"hello class\""
   ]
  },
  {
   "cell_type": "markdown",
   "id": "d2f4f2a4",
   "metadata": {},
   "source": [
    "![math](images/image(7).png)"
   ]
  },
  {
   "cell_type": "code",
   "execution_count": 2,
   "id": "d4df8d75",
   "metadata": {},
   "outputs": [
    {
     "data": {
      "text/plain": [
       "15"
      ]
     },
     "execution_count": 2,
     "metadata": {},
     "output_type": "execute_result"
    }
   ],
   "source": [
    "(1+4)*3"
   ]
  },
  {
   "cell_type": "markdown",
   "id": "11d6ed52",
   "metadata": {},
   "source": [
    "![myimg](images/image(14).png)"
   ]
  },
  {
   "cell_type": "code",
   "execution_count": 3,
   "id": "5b038235",
   "metadata": {},
   "outputs": [
    {
     "data": {
      "text/plain": [
       "'hello peter'"
      ]
     },
     "execution_count": 3,
     "metadata": {},
     "output_type": "execute_result"
    }
   ],
   "source": [
    "\"hello\" + \" peter\""
   ]
  },
  {
   "cell_type": "markdown",
   "id": "d3f42241",
   "metadata": {},
   "source": [
    "### Assigning Variables\n",
    "In Excel, when you type a formula, its result is being assigned to a cell.  \n",
    "For example, here I am putting the formula **CONCAT(\"hello\", \" peter\")** into cell A1.  \n",
    "You can think of this as a line of code:\n",
    "    \n",
    "    A1 = CONCAT(\"hello\", \" peter\")\n",
    "    \n",
    "![myimg](images/image(14).png)"
   ]
  },
  {
   "cell_type": "markdown",
   "id": "8d94a43d",
   "metadata": {},
   "source": [
    "In Python, the same code would look like this (in Python you can use + instead of CONCAT):"
   ]
  },
  {
   "cell_type": "code",
   "execution_count": 4,
   "id": "4804e497",
   "metadata": {},
   "outputs": [],
   "source": [
    "A1 = \"hello\" + \" peter\""
   ]
  },
  {
   "cell_type": "markdown",
   "id": "39f861b5",
   "metadata": {},
   "source": [
    "You can view the value assigned to a variable by typing the variable into a cell then running it (shift+enter)"
   ]
  },
  {
   "cell_type": "code",
   "execution_count": 5,
   "id": "c83aa72f",
   "metadata": {},
   "outputs": [
    {
     "data": {
      "text/plain": [
       "'hello peter'"
      ]
     },
     "execution_count": 5,
     "metadata": {},
     "output_type": "execute_result"
    }
   ],
   "source": [
    "A1"
   ]
  },
  {
   "cell_type": "markdown",
   "id": "71ff4b97",
   "metadata": {},
   "source": [
    "In Python you can use any word to name a variable (as long as it doesn't have spaces or any special character besides the underscore _)"
   ]
  },
  {
   "cell_type": "code",
   "execution_count": 6,
   "id": "0b310037",
   "metadata": {},
   "outputs": [],
   "source": [
    "result = (45*710)**.5"
   ]
  },
  {
   "cell_type": "code",
   "execution_count": 7,
   "id": "51468f02",
   "metadata": {},
   "outputs": [
    {
     "data": {
      "text/plain": [
       "178.74562931719478"
      ]
     },
     "execution_count": 7,
     "metadata": {},
     "output_type": "execute_result"
    }
   ],
   "source": [
    "result"
   ]
  },
  {
   "cell_type": "markdown",
   "id": "44fd87e3",
   "metadata": {},
   "source": [
    "Try to make your variable names as intuitive and clear as possible. I constantly forget what the variable names I come up with mean"
   ]
  },
  {
   "cell_type": "code",
   "execution_count": 8,
   "id": "478209c3",
   "metadata": {},
   "outputs": [],
   "source": [
    "one_hundred_dogs = \"dog \" * 100"
   ]
  },
  {
   "cell_type": "code",
   "execution_count": 9,
   "id": "b7dbdc9f",
   "metadata": {},
   "outputs": [
    {
     "data": {
      "text/plain": [
       "'dog dog dog dog dog dog dog dog dog dog dog dog dog dog dog dog dog dog dog dog dog dog dog dog dog dog dog dog dog dog dog dog dog dog dog dog dog dog dog dog dog dog dog dog dog dog dog dog dog dog dog dog dog dog dog dog dog dog dog dog dog dog dog dog dog dog dog dog dog dog dog dog dog dog dog dog dog dog dog dog dog dog dog dog dog dog dog dog dog dog dog dog dog dog dog dog dog dog dog dog '"
      ]
     },
     "execution_count": 9,
     "metadata": {},
     "output_type": "execute_result"
    }
   ],
   "source": [
    "one_hundred_dogs"
   ]
  },
  {
   "cell_type": "markdown",
   "id": "49fa3b55",
   "metadata": {},
   "source": [
    "The biggest difference here is that we can't see what all of our assigned variables are in a clean spreadsheet layout like in Excel. We assign values to variables rather than positioning them in a spreadsheet, and we have to consult our earlier code to remember that we've already assigned the following variables:\n",
    "    \n",
    "    A1\n",
    "    result\n",
    "    one_hundred_dogs"
   ]
  },
  {
   "cell_type": "markdown",
   "id": "b65a0461",
   "metadata": {},
   "source": [
    "### Functions\n",
    "Functions actually work pretty similarly in Excel and in Python. You type the name of the function then parenthesis, then whatever inputs the function requires:\n",
    "    \n",
    "    Excel -> SUM()\n",
    "    Python -> sum()\n",
    "    \n",
    "One of the biggest differences is that it's a lot easier to write custom functions in Python, but we won't be getting into that. Consider the code in Excel for adding up a list of numbers, in this case 1, 2, 3, 4. SUM(A1:A4)  \n",
    "![myimg](images/image(12).png)"
   ]
  },
  {
   "cell_type": "markdown",
   "id": "abf2c29b",
   "metadata": {},
   "source": [
    "The process in Python is very similar"
   ]
  },
  {
   "cell_type": "code",
   "execution_count": 10,
   "id": "d55e2aa3",
   "metadata": {},
   "outputs": [],
   "source": [
    "A = [1, 2, 3, 4]"
   ]
  },
  {
   "cell_type": "code",
   "execution_count": 11,
   "id": "7d12c037",
   "metadata": {},
   "outputs": [
    {
     "data": {
      "text/plain": [
       "10"
      ]
     },
     "execution_count": 11,
     "metadata": {},
     "output_type": "execute_result"
    }
   ],
   "source": [
    "sum(A)"
   ]
  },
  {
   "cell_type": "code",
   "execution_count": 12,
   "id": "cbf334e1",
   "metadata": {},
   "outputs": [
    {
     "data": {
      "text/plain": [
       "4"
      ]
     },
     "execution_count": 12,
     "metadata": {},
     "output_type": "execute_result"
    }
   ],
   "source": [
    "len(A)"
   ]
  },
  {
   "attachments": {},
   "cell_type": "markdown",
   "id": "344f9a71",
   "metadata": {},
   "source": [
    "<h1> <mark> Challenge 1 </mark>: Let's try combining functions </h1>  \n",
    "\n",
    "Using sum and length, try calculating the average of the list and saving the result to a variable, `average`."
   ]
  },
  {
   "cell_type": "code",
   "execution_count": 13,
   "id": "4537441c",
   "metadata": {},
   "outputs": [],
   "source": [
    "average = sum(A) / len(A)"
   ]
  },
  {
   "cell_type": "code",
   "execution_count": 14,
   "id": "db2a646a",
   "metadata": {},
   "outputs": [
    {
     "data": {
      "text/plain": [
       "2.5"
      ]
     },
     "execution_count": 14,
     "metadata": {},
     "output_type": "execute_result"
    }
   ],
   "source": [
    "average"
   ]
  },
  {
   "cell_type": "markdown",
   "id": "c9e513b9",
   "metadata": {},
   "source": [
    "### Data Analysis\n",
    "OK, congrats you now get the basics of what Python is. There are a lot of important topics we are going to not cover today -  \n",
    "- [iteration (for, while)](https://www.w3schools.com/python/python_for_loops.asp)  \n",
    "- [logical operators (and, or, if)](https://www.w3schools.com/python/python_conditions.asp) \n",
    "- [defining functions](https://www.w3schools.com/python/python_functions.asp) \n",
    "- [other data types (dictionaries, tuples)](https://www.w3schools.com/python/python_dictionaries.asp)\n",
    "- [etc.](https://www.w3schools.com/python/default.asp)\n",
    "\n",
    "I want us to get into using Python for actual tasks as quickly as possible, so we are going to leverage what's built into the Pandas library now, because that's what you would actually be doing most of the time if you were using Python for work."
   ]
  },
  {
   "attachments": {},
   "cell_type": "markdown",
   "id": "d66e4a22",
   "metadata": {},
   "source": [
    "If you want to get a more comprehensive introduction to Python, look out for offerings of the Python Fundamentals workshop in the [D-Lab's event calendar](https://dlab.berkeley.edu/events/workshops)."
   ]
  },
  {
   "cell_type": "markdown",
   "id": "04b88a97",
   "metadata": {},
   "source": [
    "The following code will load the Pandas library and make it so that we can reference Pandas by just typing in pd (it's like a nickname)  \n",
    "I also include a tiny bit of code that makes it so that Pandas won't use scientific notation and will instead round numbers to the sixth decimal place. This is personal preference (I never know what scientific notation means)"
   ]
  },
  {
   "cell_type": "code",
   "execution_count": 15,
   "id": "6538cfe0",
   "metadata": {},
   "outputs": [],
   "source": [
    "import pandas as pd\n",
    "pd.options.display.float_format = '{:.6f}'.format"
   ]
  },
  {
   "cell_type": "code",
   "execution_count": 16,
   "id": "c3a5e704",
   "metadata": {},
   "outputs": [
    {
     "data": {
      "text/plain": [
       "<module 'pandas' from 'c:\\\\Users\\\\peteramerkhanian\\\\anaconda3\\\\lib\\\\site-packages\\\\pandas\\\\__init__.py'>"
      ]
     },
     "execution_count": 16,
     "metadata": {},
     "output_type": "execute_result"
    }
   ],
   "source": [
    "pd"
   ]
  },
  {
   "cell_type": "markdown",
   "id": "bd7ec599",
   "metadata": {},
   "source": [
    "### Loading Data\n",
    "In Excel, loading data is as simple as double clicking a .xlsx file or a .csv file. In Python and Pandas, opening a file is a little different. It needs to be in the same folder as your Jupyter notebook file, and you open it with a Pandas function, like one of the following (depending on whether your file is .csv or .xlsx): \n",
    "    \n",
    "    pd.read_csv()\n",
    "    pd.read_excel()\n",
    "by typing pd. you get access to all of the functions that Pandas comes with    "
   ]
  },
  {
   "cell_type": "code",
   "execution_count": 17,
   "id": "255d9ecd",
   "metadata": {},
   "outputs": [
    {
     "data": {
      "text/html": [
       "<div>\n",
       "<style scoped>\n",
       "    .dataframe tbody tr th:only-of-type {\n",
       "        vertical-align: middle;\n",
       "    }\n",
       "\n",
       "    .dataframe tbody tr th {\n",
       "        vertical-align: top;\n",
       "    }\n",
       "\n",
       "    .dataframe thead th {\n",
       "        text-align: right;\n",
       "    }\n",
       "</style>\n",
       "<table border=\"1\" class=\"dataframe\">\n",
       "  <thead>\n",
       "    <tr style=\"text-align: right;\">\n",
       "      <th></th>\n",
       "      <th>Country Code</th>\n",
       "      <th>Country Name</th>\n",
       "      <th>Region ID</th>\n",
       "      <th>Region Name</th>\n",
       "      <th>Income Group Acronym</th>\n",
       "      <th>Income Group Name</th>\n",
       "      <th>Transaction Type ID</th>\n",
       "      <th>Transaction Type Name</th>\n",
       "      <th>Fiscal Year</th>\n",
       "      <th>current_amount</th>\n",
       "      <th>constant_amount</th>\n",
       "    </tr>\n",
       "  </thead>\n",
       "  <tbody>\n",
       "    <tr>\n",
       "      <th>0</th>\n",
       "      <td>ABW</td>\n",
       "      <td>Aruba</td>\n",
       "      <td>6</td>\n",
       "      <td>Western Hemisphere</td>\n",
       "      <td>HIC</td>\n",
       "      <td>High Income Country</td>\n",
       "      <td>2</td>\n",
       "      <td>Obligations</td>\n",
       "      <td>1999</td>\n",
       "      <td>19000</td>\n",
       "      <td>27957</td>\n",
       "    </tr>\n",
       "    <tr>\n",
       "      <th>1</th>\n",
       "      <td>ABW</td>\n",
       "      <td>Aruba</td>\n",
       "      <td>6</td>\n",
       "      <td>Western Hemisphere</td>\n",
       "      <td>HIC</td>\n",
       "      <td>High Income Country</td>\n",
       "      <td>2</td>\n",
       "      <td>Obligations</td>\n",
       "      <td>2000</td>\n",
       "      <td>50000</td>\n",
       "      <td>72090</td>\n",
       "    </tr>\n",
       "    <tr>\n",
       "      <th>2</th>\n",
       "      <td>ABW</td>\n",
       "      <td>Aruba</td>\n",
       "      <td>6</td>\n",
       "      <td>Western Hemisphere</td>\n",
       "      <td>HIC</td>\n",
       "      <td>High Income Country</td>\n",
       "      <td>2</td>\n",
       "      <td>Obligations</td>\n",
       "      <td>2004</td>\n",
       "      <td>1000</td>\n",
       "      <td>1330</td>\n",
       "    </tr>\n",
       "    <tr>\n",
       "      <th>3</th>\n",
       "      <td>ABW</td>\n",
       "      <td>Aruba</td>\n",
       "      <td>6</td>\n",
       "      <td>Western Hemisphere</td>\n",
       "      <td>HIC</td>\n",
       "      <td>High Income Country</td>\n",
       "      <td>2</td>\n",
       "      <td>Obligations</td>\n",
       "      <td>2005</td>\n",
       "      <td>29270</td>\n",
       "      <td>37766</td>\n",
       "    </tr>\n",
       "    <tr>\n",
       "      <th>4</th>\n",
       "      <td>ABW</td>\n",
       "      <td>Aruba</td>\n",
       "      <td>6</td>\n",
       "      <td>Western Hemisphere</td>\n",
       "      <td>HIC</td>\n",
       "      <td>High Income Country</td>\n",
       "      <td>2</td>\n",
       "      <td>Obligations</td>\n",
       "      <td>2006</td>\n",
       "      <td>1000</td>\n",
       "      <td>1250</td>\n",
       "    </tr>\n",
       "    <tr>\n",
       "      <th>...</th>\n",
       "      <td>...</td>\n",
       "      <td>...</td>\n",
       "      <td>...</td>\n",
       "      <td>...</td>\n",
       "      <td>...</td>\n",
       "      <td>...</td>\n",
       "      <td>...</td>\n",
       "      <td>...</td>\n",
       "      <td>...</td>\n",
       "      <td>...</td>\n",
       "      <td>...</td>\n",
       "    </tr>\n",
       "    <tr>\n",
       "      <th>21591</th>\n",
       "      <td>ZWE</td>\n",
       "      <td>Zimbabwe</td>\n",
       "      <td>5</td>\n",
       "      <td>Sub-Saharan Africa</td>\n",
       "      <td>LMIC</td>\n",
       "      <td>Lower Middle Income Country</td>\n",
       "      <td>3</td>\n",
       "      <td>Disbursements</td>\n",
       "      <td>2017</td>\n",
       "      <td>226474886</td>\n",
       "      <td>236243092</td>\n",
       "    </tr>\n",
       "    <tr>\n",
       "      <th>21592</th>\n",
       "      <td>ZWE</td>\n",
       "      <td>Zimbabwe</td>\n",
       "      <td>5</td>\n",
       "      <td>Sub-Saharan Africa</td>\n",
       "      <td>LMIC</td>\n",
       "      <td>Lower Middle Income Country</td>\n",
       "      <td>3</td>\n",
       "      <td>Disbursements</td>\n",
       "      <td>2018</td>\n",
       "      <td>227007896</td>\n",
       "      <td>231411384</td>\n",
       "    </tr>\n",
       "    <tr>\n",
       "      <th>21593</th>\n",
       "      <td>ZWE</td>\n",
       "      <td>Zimbabwe</td>\n",
       "      <td>5</td>\n",
       "      <td>Sub-Saharan Africa</td>\n",
       "      <td>LMIC</td>\n",
       "      <td>Lower Middle Income Country</td>\n",
       "      <td>3</td>\n",
       "      <td>Disbursements</td>\n",
       "      <td>2019</td>\n",
       "      <td>259153975</td>\n",
       "      <td>259153975</td>\n",
       "    </tr>\n",
       "    <tr>\n",
       "      <th>21594</th>\n",
       "      <td>ZWE</td>\n",
       "      <td>Zimbabwe</td>\n",
       "      <td>5</td>\n",
       "      <td>Sub-Saharan Africa</td>\n",
       "      <td>LMIC</td>\n",
       "      <td>Lower Middle Income Country</td>\n",
       "      <td>3</td>\n",
       "      <td>Disbursements</td>\n",
       "      <td>2020</td>\n",
       "      <td>235788780</td>\n",
       "      <td>231224298</td>\n",
       "    </tr>\n",
       "    <tr>\n",
       "      <th>21595</th>\n",
       "      <td>ZWE</td>\n",
       "      <td>Zimbabwe</td>\n",
       "      <td>5</td>\n",
       "      <td>Sub-Saharan Africa</td>\n",
       "      <td>LMIC</td>\n",
       "      <td>Lower Middle Income Country</td>\n",
       "      <td>3</td>\n",
       "      <td>Disbursements</td>\n",
       "      <td>2021</td>\n",
       "      <td>186140320</td>\n",
       "      <td>178963321</td>\n",
       "    </tr>\n",
       "  </tbody>\n",
       "</table>\n",
       "<p>21596 rows × 11 columns</p>\n",
       "</div>"
      ],
      "text/plain": [
       "      Country Code Country Name  Region ID         Region Name  \\\n",
       "0              ABW        Aruba          6  Western Hemisphere   \n",
       "1              ABW        Aruba          6  Western Hemisphere   \n",
       "2              ABW        Aruba          6  Western Hemisphere   \n",
       "3              ABW        Aruba          6  Western Hemisphere   \n",
       "4              ABW        Aruba          6  Western Hemisphere   \n",
       "...            ...          ...        ...                 ...   \n",
       "21591          ZWE     Zimbabwe          5  Sub-Saharan Africa   \n",
       "21592          ZWE     Zimbabwe          5  Sub-Saharan Africa   \n",
       "21593          ZWE     Zimbabwe          5  Sub-Saharan Africa   \n",
       "21594          ZWE     Zimbabwe          5  Sub-Saharan Africa   \n",
       "21595          ZWE     Zimbabwe          5  Sub-Saharan Africa   \n",
       "\n",
       "      Income Group Acronym            Income Group Name  Transaction Type ID  \\\n",
       "0                      HIC          High Income Country                    2   \n",
       "1                      HIC          High Income Country                    2   \n",
       "2                      HIC          High Income Country                    2   \n",
       "3                      HIC          High Income Country                    2   \n",
       "4                      HIC          High Income Country                    2   \n",
       "...                    ...                          ...                  ...   \n",
       "21591                 LMIC  Lower Middle Income Country                    3   \n",
       "21592                 LMIC  Lower Middle Income Country                    3   \n",
       "21593                 LMIC  Lower Middle Income Country                    3   \n",
       "21594                 LMIC  Lower Middle Income Country                    3   \n",
       "21595                 LMIC  Lower Middle Income Country                    3   \n",
       "\n",
       "      Transaction Type Name  Fiscal Year  current_amount  constant_amount  \n",
       "0               Obligations         1999           19000            27957  \n",
       "1               Obligations         2000           50000            72090  \n",
       "2               Obligations         2004            1000             1330  \n",
       "3               Obligations         2005           29270            37766  \n",
       "4               Obligations         2006            1000             1250  \n",
       "...                     ...          ...             ...              ...  \n",
       "21591         Disbursements         2017       226474886        236243092  \n",
       "21592         Disbursements         2018       227007896        231411384  \n",
       "21593         Disbursements         2019       259153975        259153975  \n",
       "21594         Disbursements         2020       235788780        231224298  \n",
       "21595         Disbursements         2021       186140320        178963321  \n",
       "\n",
       "[21596 rows x 11 columns]"
      ]
     },
     "execution_count": 17,
     "metadata": {},
     "output_type": "execute_result"
    }
   ],
   "source": [
    "pd.read_csv(\"data/Week_10_Workbook_FINAL_2021.csv\")"
   ]
  },
  {
   "cell_type": "markdown",
   "id": "e3ac52c0",
   "metadata": {},
   "source": [
    "That code read the data in, but we need to save into our python environment if we want to keep working with it.  \n",
    "Let's assign the result of pd.read_csv() to a variable called df (short for data frame), which we’ll use to refer to our data in the future"
   ]
  },
  {
   "cell_type": "code",
   "execution_count": 18,
   "id": "13a38d23",
   "metadata": {},
   "outputs": [],
   "source": [
    "df = pd.read_csv(\"data/Week_10_Workbook_FINAL_2021.csv\")"
   ]
  },
  {
   "cell_type": "markdown",
   "id": "3a44228b",
   "metadata": {},
   "source": [
    "When we type in df, we can see our table"
   ]
  },
  {
   "cell_type": "code",
   "execution_count": 19,
   "id": "dc957a1f",
   "metadata": {},
   "outputs": [
    {
     "data": {
      "text/html": [
       "<div>\n",
       "<style scoped>\n",
       "    .dataframe tbody tr th:only-of-type {\n",
       "        vertical-align: middle;\n",
       "    }\n",
       "\n",
       "    .dataframe tbody tr th {\n",
       "        vertical-align: top;\n",
       "    }\n",
       "\n",
       "    .dataframe thead th {\n",
       "        text-align: right;\n",
       "    }\n",
       "</style>\n",
       "<table border=\"1\" class=\"dataframe\">\n",
       "  <thead>\n",
       "    <tr style=\"text-align: right;\">\n",
       "      <th></th>\n",
       "      <th>Country Code</th>\n",
       "      <th>Country Name</th>\n",
       "      <th>Region ID</th>\n",
       "      <th>Region Name</th>\n",
       "      <th>Income Group Acronym</th>\n",
       "      <th>Income Group Name</th>\n",
       "      <th>Transaction Type ID</th>\n",
       "      <th>Transaction Type Name</th>\n",
       "      <th>Fiscal Year</th>\n",
       "      <th>current_amount</th>\n",
       "      <th>constant_amount</th>\n",
       "    </tr>\n",
       "  </thead>\n",
       "  <tbody>\n",
       "    <tr>\n",
       "      <th>0</th>\n",
       "      <td>ABW</td>\n",
       "      <td>Aruba</td>\n",
       "      <td>6</td>\n",
       "      <td>Western Hemisphere</td>\n",
       "      <td>HIC</td>\n",
       "      <td>High Income Country</td>\n",
       "      <td>2</td>\n",
       "      <td>Obligations</td>\n",
       "      <td>1999</td>\n",
       "      <td>19000</td>\n",
       "      <td>27957</td>\n",
       "    </tr>\n",
       "    <tr>\n",
       "      <th>1</th>\n",
       "      <td>ABW</td>\n",
       "      <td>Aruba</td>\n",
       "      <td>6</td>\n",
       "      <td>Western Hemisphere</td>\n",
       "      <td>HIC</td>\n",
       "      <td>High Income Country</td>\n",
       "      <td>2</td>\n",
       "      <td>Obligations</td>\n",
       "      <td>2000</td>\n",
       "      <td>50000</td>\n",
       "      <td>72090</td>\n",
       "    </tr>\n",
       "    <tr>\n",
       "      <th>2</th>\n",
       "      <td>ABW</td>\n",
       "      <td>Aruba</td>\n",
       "      <td>6</td>\n",
       "      <td>Western Hemisphere</td>\n",
       "      <td>HIC</td>\n",
       "      <td>High Income Country</td>\n",
       "      <td>2</td>\n",
       "      <td>Obligations</td>\n",
       "      <td>2004</td>\n",
       "      <td>1000</td>\n",
       "      <td>1330</td>\n",
       "    </tr>\n",
       "    <tr>\n",
       "      <th>3</th>\n",
       "      <td>ABW</td>\n",
       "      <td>Aruba</td>\n",
       "      <td>6</td>\n",
       "      <td>Western Hemisphere</td>\n",
       "      <td>HIC</td>\n",
       "      <td>High Income Country</td>\n",
       "      <td>2</td>\n",
       "      <td>Obligations</td>\n",
       "      <td>2005</td>\n",
       "      <td>29270</td>\n",
       "      <td>37766</td>\n",
       "    </tr>\n",
       "    <tr>\n",
       "      <th>4</th>\n",
       "      <td>ABW</td>\n",
       "      <td>Aruba</td>\n",
       "      <td>6</td>\n",
       "      <td>Western Hemisphere</td>\n",
       "      <td>HIC</td>\n",
       "      <td>High Income Country</td>\n",
       "      <td>2</td>\n",
       "      <td>Obligations</td>\n",
       "      <td>2006</td>\n",
       "      <td>1000</td>\n",
       "      <td>1250</td>\n",
       "    </tr>\n",
       "    <tr>\n",
       "      <th>...</th>\n",
       "      <td>...</td>\n",
       "      <td>...</td>\n",
       "      <td>...</td>\n",
       "      <td>...</td>\n",
       "      <td>...</td>\n",
       "      <td>...</td>\n",
       "      <td>...</td>\n",
       "      <td>...</td>\n",
       "      <td>...</td>\n",
       "      <td>...</td>\n",
       "      <td>...</td>\n",
       "    </tr>\n",
       "    <tr>\n",
       "      <th>21591</th>\n",
       "      <td>ZWE</td>\n",
       "      <td>Zimbabwe</td>\n",
       "      <td>5</td>\n",
       "      <td>Sub-Saharan Africa</td>\n",
       "      <td>LMIC</td>\n",
       "      <td>Lower Middle Income Country</td>\n",
       "      <td>3</td>\n",
       "      <td>Disbursements</td>\n",
       "      <td>2017</td>\n",
       "      <td>226474886</td>\n",
       "      <td>236243092</td>\n",
       "    </tr>\n",
       "    <tr>\n",
       "      <th>21592</th>\n",
       "      <td>ZWE</td>\n",
       "      <td>Zimbabwe</td>\n",
       "      <td>5</td>\n",
       "      <td>Sub-Saharan Africa</td>\n",
       "      <td>LMIC</td>\n",
       "      <td>Lower Middle Income Country</td>\n",
       "      <td>3</td>\n",
       "      <td>Disbursements</td>\n",
       "      <td>2018</td>\n",
       "      <td>227007896</td>\n",
       "      <td>231411384</td>\n",
       "    </tr>\n",
       "    <tr>\n",
       "      <th>21593</th>\n",
       "      <td>ZWE</td>\n",
       "      <td>Zimbabwe</td>\n",
       "      <td>5</td>\n",
       "      <td>Sub-Saharan Africa</td>\n",
       "      <td>LMIC</td>\n",
       "      <td>Lower Middle Income Country</td>\n",
       "      <td>3</td>\n",
       "      <td>Disbursements</td>\n",
       "      <td>2019</td>\n",
       "      <td>259153975</td>\n",
       "      <td>259153975</td>\n",
       "    </tr>\n",
       "    <tr>\n",
       "      <th>21594</th>\n",
       "      <td>ZWE</td>\n",
       "      <td>Zimbabwe</td>\n",
       "      <td>5</td>\n",
       "      <td>Sub-Saharan Africa</td>\n",
       "      <td>LMIC</td>\n",
       "      <td>Lower Middle Income Country</td>\n",
       "      <td>3</td>\n",
       "      <td>Disbursements</td>\n",
       "      <td>2020</td>\n",
       "      <td>235788780</td>\n",
       "      <td>231224298</td>\n",
       "    </tr>\n",
       "    <tr>\n",
       "      <th>21595</th>\n",
       "      <td>ZWE</td>\n",
       "      <td>Zimbabwe</td>\n",
       "      <td>5</td>\n",
       "      <td>Sub-Saharan Africa</td>\n",
       "      <td>LMIC</td>\n",
       "      <td>Lower Middle Income Country</td>\n",
       "      <td>3</td>\n",
       "      <td>Disbursements</td>\n",
       "      <td>2021</td>\n",
       "      <td>186140320</td>\n",
       "      <td>178963321</td>\n",
       "    </tr>\n",
       "  </tbody>\n",
       "</table>\n",
       "<p>21596 rows × 11 columns</p>\n",
       "</div>"
      ],
      "text/plain": [
       "      Country Code Country Name  Region ID         Region Name  \\\n",
       "0              ABW        Aruba          6  Western Hemisphere   \n",
       "1              ABW        Aruba          6  Western Hemisphere   \n",
       "2              ABW        Aruba          6  Western Hemisphere   \n",
       "3              ABW        Aruba          6  Western Hemisphere   \n",
       "4              ABW        Aruba          6  Western Hemisphere   \n",
       "...            ...          ...        ...                 ...   \n",
       "21591          ZWE     Zimbabwe          5  Sub-Saharan Africa   \n",
       "21592          ZWE     Zimbabwe          5  Sub-Saharan Africa   \n",
       "21593          ZWE     Zimbabwe          5  Sub-Saharan Africa   \n",
       "21594          ZWE     Zimbabwe          5  Sub-Saharan Africa   \n",
       "21595          ZWE     Zimbabwe          5  Sub-Saharan Africa   \n",
       "\n",
       "      Income Group Acronym            Income Group Name  Transaction Type ID  \\\n",
       "0                      HIC          High Income Country                    2   \n",
       "1                      HIC          High Income Country                    2   \n",
       "2                      HIC          High Income Country                    2   \n",
       "3                      HIC          High Income Country                    2   \n",
       "4                      HIC          High Income Country                    2   \n",
       "...                    ...                          ...                  ...   \n",
       "21591                 LMIC  Lower Middle Income Country                    3   \n",
       "21592                 LMIC  Lower Middle Income Country                    3   \n",
       "21593                 LMIC  Lower Middle Income Country                    3   \n",
       "21594                 LMIC  Lower Middle Income Country                    3   \n",
       "21595                 LMIC  Lower Middle Income Country                    3   \n",
       "\n",
       "      Transaction Type Name  Fiscal Year  current_amount  constant_amount  \n",
       "0               Obligations         1999           19000            27957  \n",
       "1               Obligations         2000           50000            72090  \n",
       "2               Obligations         2004            1000             1330  \n",
       "3               Obligations         2005           29270            37766  \n",
       "4               Obligations         2006            1000             1250  \n",
       "...                     ...          ...             ...              ...  \n",
       "21591         Disbursements         2017       226474886        236243092  \n",
       "21592         Disbursements         2018       227007896        231411384  \n",
       "21593         Disbursements         2019       259153975        259153975  \n",
       "21594         Disbursements         2020       235788780        231224298  \n",
       "21595         Disbursements         2021       186140320        178963321  \n",
       "\n",
       "[21596 rows x 11 columns]"
      ]
     },
     "execution_count": 19,
     "metadata": {},
     "output_type": "execute_result"
    }
   ],
   "source": [
    "df"
   ]
  },
  {
   "cell_type": "markdown",
   "id": "5f7e6bf0",
   "metadata": {},
   "source": [
    "### Getting Descriptive Statistics\n",
    "In Excel, we could use analysis toolpak and be able to get descriptive statistics for a given column like this (here I'm getting the descriptive statistics for the constant aid amounts):\n",
    "![stats](images/image(11).png)"
   ]
  },
  {
   "cell_type": "markdown",
   "id": "c3112e28",
   "metadata": {},
   "source": [
    "In Pandas, we reference specific columns like this:"
   ]
  },
  {
   "cell_type": "code",
   "execution_count": 20,
   "id": "59bf89c2",
   "metadata": {},
   "outputs": [
    {
     "data": {
      "text/plain": [
       "0            19000\n",
       "1            50000\n",
       "2             1000\n",
       "3            29270\n",
       "4             1000\n",
       "           ...    \n",
       "21591    226474886\n",
       "21592    227007896\n",
       "21593    259153975\n",
       "21594    235788780\n",
       "21595    186140320\n",
       "Name: current_amount, Length: 21596, dtype: int64"
      ]
     },
     "execution_count": 20,
     "metadata": {},
     "output_type": "execute_result"
    }
   ],
   "source": [
    "df[\"current_amount\"]"
   ]
  },
  {
   "cell_type": "markdown",
   "id": "a5784212",
   "metadata": {},
   "source": [
    "While using Pandas, we can access general Pandas functions by typing pd then any given function\n",
    "    \n",
    "    pd.function()\n",
    "But we can also access functions in other more specialized ways. Pandas has a number of specific functions that are for anlyzing and processing columns of data. to access those, you select a column\n",
    "    \n",
    "    df[\"current_amount\"]\n",
    "then you type . and can access a number of functions for columns (the technical term is method instead of function, but the distinction isn't important right now)\n",
    "    \n",
    "    df[\"current_amount\"].describe()"
   ]
  },
  {
   "cell_type": "code",
   "execution_count": 21,
   "id": "ec8266b2",
   "metadata": {},
   "outputs": [
    {
     "data": {
      "text/plain": [
       "count         21596.000000\n",
       "mean      172682905.133497\n",
       "std       971650169.397417\n",
       "min       -67313490.000000\n",
       "25%         1744487.750000\n",
       "50%        16981664.500000\n",
       "75%        76056486.500000\n",
       "max     28851188510.000000\n",
       "Name: current_amount, dtype: float64"
      ]
     },
     "execution_count": 21,
     "metadata": {},
     "output_type": "execute_result"
    }
   ],
   "source": [
    "df[\"current_amount\"].describe()"
   ]
  },
  {
   "cell_type": "markdown",
   "id": "97d4b728",
   "metadata": {},
   "source": [
    "Note that describe() is the Pandas function for getting descriptive statistics from a column.  \n",
    "Here are a few other column functions"
   ]
  },
  {
   "cell_type": "code",
   "execution_count": 22,
   "id": "df8f0381",
   "metadata": {},
   "outputs": [
    {
     "data": {
      "text/plain": [
       "5467954240727"
      ]
     },
     "execution_count": 22,
     "metadata": {},
     "output_type": "execute_result"
    }
   ],
   "source": [
    "df[\"constant_amount\"].sum()"
   ]
  },
  {
   "cell_type": "code",
   "execution_count": 23,
   "id": "163782fa",
   "metadata": {},
   "outputs": [
    {
     "data": {
      "text/plain": [
       "26205987.5"
      ]
     },
     "execution_count": 23,
     "metadata": {},
     "output_type": "execute_result"
    }
   ],
   "source": [
    "df[\"constant_amount\"].median()"
   ]
  },
  {
   "cell_type": "code",
   "execution_count": 24,
   "id": "f00f4d00",
   "metadata": {},
   "outputs": [
    {
     "data": {
      "text/plain": [
       "253192917.2405538"
      ]
     },
     "execution_count": 24,
     "metadata": {},
     "output_type": "execute_result"
    }
   ],
   "source": [
    "df[\"constant_amount\"].mean()"
   ]
  },
  {
   "cell_type": "markdown",
   "id": "f421a79f",
   "metadata": {},
   "source": [
    "### Sorting"
   ]
  },
  {
   "cell_type": "markdown",
   "id": "85119bc7",
   "metadata": {},
   "source": [
    "Here is a basic sort from largest to smallest in Excel.\n",
    "![sort](images/image(5).png)\n",
    "\n",
    "In Pandas, sorting is one of the special functions for use on full datasets (not single columns), so you can get access to the sorting function by typing . after a variable that contains a dataset. We have the variable df containing all our data, so the notation will be \n",
    "    \n",
    "    df.sort_values()\n",
    "Many functions in Pandas and in Python generally can accept a lot of different arguments. For example, this is the full number of arguments you can add to df.sort_values()\n",
    "    \n",
    "    df.sort_values(\n",
    "        by,\n",
    "        axis=0,\n",
    "        ascending=True,\n",
    "        inplace=False,\n",
    "        kind='quicksort',\n",
    "        na_position='last',\n",
    "        ignore_index=False,\n",
    "        key: 'ValueKeyFunc' = None,\n",
    "    )\n",
    "Many of these are optional or else have default values, so you don't need to explicitly add those arguments in.  \n",
    "In our case, we will just be supplying two arguments, \"by\" which is the column we want to sort everything on, and \"ascending\" which we will set to False because we want the data sorted descending (largest to smallest)"
   ]
  },
  {
   "cell_type": "code",
   "execution_count": 25,
   "id": "6ce424f5",
   "metadata": {},
   "outputs": [
    {
     "data": {
      "text/html": [
       "<div>\n",
       "<style scoped>\n",
       "    .dataframe tbody tr th:only-of-type {\n",
       "        vertical-align: middle;\n",
       "    }\n",
       "\n",
       "    .dataframe tbody tr th {\n",
       "        vertical-align: top;\n",
       "    }\n",
       "\n",
       "    .dataframe thead th {\n",
       "        text-align: right;\n",
       "    }\n",
       "</style>\n",
       "<table border=\"1\" class=\"dataframe\">\n",
       "  <thead>\n",
       "    <tr style=\"text-align: right;\">\n",
       "      <th></th>\n",
       "      <th>Country Code</th>\n",
       "      <th>Country Name</th>\n",
       "      <th>Region ID</th>\n",
       "      <th>Region Name</th>\n",
       "      <th>Income Group Acronym</th>\n",
       "      <th>Income Group Name</th>\n",
       "      <th>Transaction Type ID</th>\n",
       "      <th>Transaction Type Name</th>\n",
       "      <th>Fiscal Year</th>\n",
       "      <th>current_amount</th>\n",
       "      <th>constant_amount</th>\n",
       "    </tr>\n",
       "  </thead>\n",
       "  <tbody>\n",
       "    <tr>\n",
       "      <th>20975</th>\n",
       "      <td>WLD</td>\n",
       "      <td>World</td>\n",
       "      <td>7</td>\n",
       "      <td>World</td>\n",
       "      <td>NaN</td>\n",
       "      <td>NaN</td>\n",
       "      <td>18</td>\n",
       "      <td>President's Budget Requests</td>\n",
       "      <td>2017</td>\n",
       "      <td>28851188510</td>\n",
       "      <td>30095581655</td>\n",
       "    </tr>\n",
       "    <tr>\n",
       "      <th>20974</th>\n",
       "      <td>WLD</td>\n",
       "      <td>World</td>\n",
       "      <td>7</td>\n",
       "      <td>World</td>\n",
       "      <td>NaN</td>\n",
       "      <td>NaN</td>\n",
       "      <td>18</td>\n",
       "      <td>President's Budget Requests</td>\n",
       "      <td>2016</td>\n",
       "      <td>27317553164</td>\n",
       "      <td>29001529565</td>\n",
       "    </tr>\n",
       "    <tr>\n",
       "      <th>20973</th>\n",
       "      <td>WLD</td>\n",
       "      <td>World</td>\n",
       "      <td>7</td>\n",
       "      <td>World</td>\n",
       "      <td>NaN</td>\n",
       "      <td>NaN</td>\n",
       "      <td>18</td>\n",
       "      <td>President's Budget Requests</td>\n",
       "      <td>2015</td>\n",
       "      <td>26879849322</td>\n",
       "      <td>28789598612</td>\n",
       "    </tr>\n",
       "    <tr>\n",
       "      <th>20863</th>\n",
       "      <td>WLD</td>\n",
       "      <td>World</td>\n",
       "      <td>7</td>\n",
       "      <td>World</td>\n",
       "      <td>NaN</td>\n",
       "      <td>NaN</td>\n",
       "      <td>1</td>\n",
       "      <td>Appropriated and Planned</td>\n",
       "      <td>2020</td>\n",
       "      <td>24340058322</td>\n",
       "      <td>23868878272</td>\n",
       "    </tr>\n",
       "    <tr>\n",
       "      <th>20859</th>\n",
       "      <td>WLD</td>\n",
       "      <td>World</td>\n",
       "      <td>7</td>\n",
       "      <td>World</td>\n",
       "      <td>NaN</td>\n",
       "      <td>NaN</td>\n",
       "      <td>1</td>\n",
       "      <td>Appropriated and Planned</td>\n",
       "      <td>2016</td>\n",
       "      <td>24177784207</td>\n",
       "      <td>25668211176</td>\n",
       "    </tr>\n",
       "    <tr>\n",
       "      <th>...</th>\n",
       "      <td>...</td>\n",
       "      <td>...</td>\n",
       "      <td>...</td>\n",
       "      <td>...</td>\n",
       "      <td>...</td>\n",
       "      <td>...</td>\n",
       "      <td>...</td>\n",
       "      <td>...</td>\n",
       "      <td>...</td>\n",
       "      <td>...</td>\n",
       "      <td>...</td>\n",
       "    </tr>\n",
       "    <tr>\n",
       "      <th>14051</th>\n",
       "      <td>NIC</td>\n",
       "      <td>Nicaragua</td>\n",
       "      <td>6</td>\n",
       "      <td>Western Hemisphere</td>\n",
       "      <td>LMIC</td>\n",
       "      <td>Lower Middle Income Country</td>\n",
       "      <td>2</td>\n",
       "      <td>Obligations</td>\n",
       "      <td>2010</td>\n",
       "      <td>-14525167</td>\n",
       "      <td>-16976735</td>\n",
       "    </tr>\n",
       "    <tr>\n",
       "      <th>691</th>\n",
       "      <td>ASN</td>\n",
       "      <td>Asia Region</td>\n",
       "      <td>7</td>\n",
       "      <td>World</td>\n",
       "      <td>NaN</td>\n",
       "      <td>NaN</td>\n",
       "      <td>2</td>\n",
       "      <td>Obligations</td>\n",
       "      <td>1956</td>\n",
       "      <td>-15400000</td>\n",
       "      <td>-114694305</td>\n",
       "    </tr>\n",
       "    <tr>\n",
       "      <th>2905</th>\n",
       "      <td>CAN</td>\n",
       "      <td>Canada</td>\n",
       "      <td>6</td>\n",
       "      <td>Western Hemisphere</td>\n",
       "      <td>HIC</td>\n",
       "      <td>High Income Country</td>\n",
       "      <td>3</td>\n",
       "      <td>Disbursements</td>\n",
       "      <td>2018</td>\n",
       "      <td>-24268891</td>\n",
       "      <td>-24739667</td>\n",
       "    </tr>\n",
       "    <tr>\n",
       "      <th>19722</th>\n",
       "      <td>TWN</td>\n",
       "      <td>Taiwan</td>\n",
       "      <td>1</td>\n",
       "      <td>East Asia and Oceania</td>\n",
       "      <td>HIC</td>\n",
       "      <td>High Income Country</td>\n",
       "      <td>2</td>\n",
       "      <td>Obligations</td>\n",
       "      <td>1950</td>\n",
       "      <td>-51100000</td>\n",
       "      <td>-444104019</td>\n",
       "    </tr>\n",
       "    <tr>\n",
       "      <th>6998</th>\n",
       "      <td>GHA</td>\n",
       "      <td>Ghana</td>\n",
       "      <td>5</td>\n",
       "      <td>Sub-Saharan Africa</td>\n",
       "      <td>LMIC</td>\n",
       "      <td>Lower Middle Income Country</td>\n",
       "      <td>2</td>\n",
       "      <td>Obligations</td>\n",
       "      <td>2020</td>\n",
       "      <td>-67313490</td>\n",
       "      <td>-66010430</td>\n",
       "    </tr>\n",
       "  </tbody>\n",
       "</table>\n",
       "<p>21596 rows × 11 columns</p>\n",
       "</div>"
      ],
      "text/plain": [
       "      Country Code Country Name  Region ID            Region Name  \\\n",
       "20975          WLD        World          7                  World   \n",
       "20974          WLD        World          7                  World   \n",
       "20973          WLD        World          7                  World   \n",
       "20863          WLD        World          7                  World   \n",
       "20859          WLD        World          7                  World   \n",
       "...            ...          ...        ...                    ...   \n",
       "14051          NIC    Nicaragua          6     Western Hemisphere   \n",
       "691            ASN  Asia Region          7                  World   \n",
       "2905           CAN       Canada          6     Western Hemisphere   \n",
       "19722          TWN       Taiwan          1  East Asia and Oceania   \n",
       "6998           GHA        Ghana          5     Sub-Saharan Africa   \n",
       "\n",
       "      Income Group Acronym            Income Group Name  Transaction Type ID  \\\n",
       "20975                  NaN                          NaN                   18   \n",
       "20974                  NaN                          NaN                   18   \n",
       "20973                  NaN                          NaN                   18   \n",
       "20863                  NaN                          NaN                    1   \n",
       "20859                  NaN                          NaN                    1   \n",
       "...                    ...                          ...                  ...   \n",
       "14051                 LMIC  Lower Middle Income Country                    2   \n",
       "691                    NaN                          NaN                    2   \n",
       "2905                   HIC          High Income Country                    3   \n",
       "19722                  HIC          High Income Country                    2   \n",
       "6998                  LMIC  Lower Middle Income Country                    2   \n",
       "\n",
       "             Transaction Type Name  Fiscal Year  current_amount  \\\n",
       "20975  President's Budget Requests         2017     28851188510   \n",
       "20974  President's Budget Requests         2016     27317553164   \n",
       "20973  President's Budget Requests         2015     26879849322   \n",
       "20863     Appropriated and Planned         2020     24340058322   \n",
       "20859     Appropriated and Planned         2016     24177784207   \n",
       "...                            ...          ...             ...   \n",
       "14051                  Obligations         2010       -14525167   \n",
       "691                    Obligations         1956       -15400000   \n",
       "2905                 Disbursements         2018       -24268891   \n",
       "19722                  Obligations         1950       -51100000   \n",
       "6998                   Obligations         2020       -67313490   \n",
       "\n",
       "       constant_amount  \n",
       "20975      30095581655  \n",
       "20974      29001529565  \n",
       "20973      28789598612  \n",
       "20863      23868878272  \n",
       "20859      25668211176  \n",
       "...                ...  \n",
       "14051        -16976735  \n",
       "691         -114694305  \n",
       "2905         -24739667  \n",
       "19722       -444104019  \n",
       "6998         -66010430  \n",
       "\n",
       "[21596 rows x 11 columns]"
      ]
     },
     "execution_count": 25,
     "metadata": {},
     "output_type": "execute_result"
    }
   ],
   "source": [
    "df.sort_values(by=\"current_amount\", ascending=False)"
   ]
  },
  {
   "cell_type": "markdown",
   "id": "ede748da",
   "metadata": {},
   "source": [
    "### Filtering\n",
    "In Excel, you filter data by applying a filter to the top row then clicking the drop down for the column you want to filter on, then selecting the values you want to isolate with your filter, in this case 2020:  \n",
    "![filter](images/image(10).png)"
   ]
  },
  {
   "cell_type": "markdown",
   "id": "d96505d5",
   "metadata": {},
   "source": [
    "In Python the process is a little different. We first have to create a \"mask column\" of True and False values - True if a given row is from Fiscal Year 2020, False otherwise. In Excel, that would look more like this:  \n",
    "![mask](images/image(9).png)\n",
    "And then filtering your data down to rows with TRUE, like this:\n",
    "![filtermask](images/image(8).png)"
   ]
  },
  {
   "cell_type": "markdown",
   "id": "33b28ae5",
   "metadata": {},
   "source": [
    "Here is how we make that \"mask column\" in Pandas, to see if each row has a Fiscal Year of 2020:"
   ]
  },
  {
   "cell_type": "code",
   "execution_count": 26,
   "id": "a0fe528c",
   "metadata": {},
   "outputs": [
    {
     "data": {
      "text/plain": [
       "0        False\n",
       "1        False\n",
       "2        False\n",
       "3        False\n",
       "4        False\n",
       "         ...  \n",
       "21591    False\n",
       "21592    False\n",
       "21593    False\n",
       "21594    False\n",
       "21595    False\n",
       "Name: Fiscal Year, Length: 21596, dtype: bool"
      ]
     },
     "execution_count": 26,
     "metadata": {},
     "output_type": "execute_result"
    }
   ],
   "source": [
    "df[\"Fiscal Year\"] == \"2020\""
   ]
  },
  {
   "cell_type": "markdown",
   "id": "3368630b",
   "metadata": {},
   "source": [
    "We can then apply our mask to the data using the following notation. This will filter the data down to only the rows where our \"mask column\" above is True."
   ]
  },
  {
   "cell_type": "code",
   "execution_count": 27,
   "id": "383bcb63",
   "metadata": {},
   "outputs": [
    {
     "data": {
      "text/html": [
       "<div>\n",
       "<style scoped>\n",
       "    .dataframe tbody tr th:only-of-type {\n",
       "        vertical-align: middle;\n",
       "    }\n",
       "\n",
       "    .dataframe tbody tr th {\n",
       "        vertical-align: top;\n",
       "    }\n",
       "\n",
       "    .dataframe thead th {\n",
       "        text-align: right;\n",
       "    }\n",
       "</style>\n",
       "<table border=\"1\" class=\"dataframe\">\n",
       "  <thead>\n",
       "    <tr style=\"text-align: right;\">\n",
       "      <th></th>\n",
       "      <th>Country Code</th>\n",
       "      <th>Country Name</th>\n",
       "      <th>Region ID</th>\n",
       "      <th>Region Name</th>\n",
       "      <th>Income Group Acronym</th>\n",
       "      <th>Income Group Name</th>\n",
       "      <th>Transaction Type ID</th>\n",
       "      <th>Transaction Type Name</th>\n",
       "      <th>Fiscal Year</th>\n",
       "      <th>current_amount</th>\n",
       "      <th>constant_amount</th>\n",
       "    </tr>\n",
       "  </thead>\n",
       "  <tbody>\n",
       "    <tr>\n",
       "      <th>10</th>\n",
       "      <td>ABW</td>\n",
       "      <td>Aruba</td>\n",
       "      <td>6</td>\n",
       "      <td>Western Hemisphere</td>\n",
       "      <td>HIC</td>\n",
       "      <td>High Income Country</td>\n",
       "      <td>2</td>\n",
       "      <td>Obligations</td>\n",
       "      <td>2020</td>\n",
       "      <td>1296710</td>\n",
       "      <td>1271608</td>\n",
       "    </tr>\n",
       "    <tr>\n",
       "      <th>139</th>\n",
       "      <td>AFG</td>\n",
       "      <td>Afghanistan</td>\n",
       "      <td>4</td>\n",
       "      <td>South and Central Asia</td>\n",
       "      <td>LIC</td>\n",
       "      <td>Low Income Country</td>\n",
       "      <td>1</td>\n",
       "      <td>Appropriated and Planned</td>\n",
       "      <td>2020</td>\n",
       "      <td>332300000</td>\n",
       "      <td>325867267</td>\n",
       "    </tr>\n",
       "    <tr>\n",
       "      <th>140</th>\n",
       "      <td>AFG</td>\n",
       "      <td>Afghanistan</td>\n",
       "      <td>4</td>\n",
       "      <td>South and Central Asia</td>\n",
       "      <td>LIC</td>\n",
       "      <td>Low Income Country</td>\n",
       "      <td>2</td>\n",
       "      <td>Obligations</td>\n",
       "      <td>2020</td>\n",
       "      <td>1190997567</td>\n",
       "      <td>1167941961</td>\n",
       "    </tr>\n",
       "    <tr>\n",
       "      <th>141</th>\n",
       "      <td>AFG</td>\n",
       "      <td>Afghanistan</td>\n",
       "      <td>4</td>\n",
       "      <td>South and Central Asia</td>\n",
       "      <td>LIC</td>\n",
       "      <td>Low Income Country</td>\n",
       "      <td>3</td>\n",
       "      <td>Disbursements</td>\n",
       "      <td>2020</td>\n",
       "      <td>1293139013</td>\n",
       "      <td>1268106147</td>\n",
       "    </tr>\n",
       "    <tr>\n",
       "      <th>142</th>\n",
       "      <td>AFG</td>\n",
       "      <td>Afghanistan</td>\n",
       "      <td>4</td>\n",
       "      <td>South and Central Asia</td>\n",
       "      <td>LIC</td>\n",
       "      <td>Low Income Country</td>\n",
       "      <td>18</td>\n",
       "      <td>President's Budget Requests</td>\n",
       "      <td>2020</td>\n",
       "      <td>532800000</td>\n",
       "      <td>522485943</td>\n",
       "    </tr>\n",
       "    <tr>\n",
       "      <th>...</th>\n",
       "      <td>...</td>\n",
       "      <td>...</td>\n",
       "      <td>...</td>\n",
       "      <td>...</td>\n",
       "      <td>...</td>\n",
       "      <td>...</td>\n",
       "      <td>...</td>\n",
       "      <td>...</td>\n",
       "      <td>...</td>\n",
       "      <td>...</td>\n",
       "      <td>...</td>\n",
       "    </tr>\n",
       "    <tr>\n",
       "      <th>21465</th>\n",
       "      <td>ZMB</td>\n",
       "      <td>Zambia</td>\n",
       "      <td>5</td>\n",
       "      <td>Sub-Saharan Africa</td>\n",
       "      <td>LMIC</td>\n",
       "      <td>Lower Middle Income Country</td>\n",
       "      <td>18</td>\n",
       "      <td>President's Budget Requests</td>\n",
       "      <td>2020</td>\n",
       "      <td>364869000</td>\n",
       "      <td>357805788</td>\n",
       "    </tr>\n",
       "    <tr>\n",
       "      <th>21494</th>\n",
       "      <td>ZWE</td>\n",
       "      <td>Zimbabwe</td>\n",
       "      <td>5</td>\n",
       "      <td>Sub-Saharan Africa</td>\n",
       "      <td>LIC</td>\n",
       "      <td>Low Income Country</td>\n",
       "      <td>1</td>\n",
       "      <td>Appropriated and Planned</td>\n",
       "      <td>2020</td>\n",
       "      <td>294293000</td>\n",
       "      <td>288596013</td>\n",
       "    </tr>\n",
       "    <tr>\n",
       "      <th>21507</th>\n",
       "      <td>ZWE</td>\n",
       "      <td>Zimbabwe</td>\n",
       "      <td>5</td>\n",
       "      <td>Sub-Saharan Africa</td>\n",
       "      <td>LIC</td>\n",
       "      <td>Low Income Country</td>\n",
       "      <td>18</td>\n",
       "      <td>President's Budget Requests</td>\n",
       "      <td>2020</td>\n",
       "      <td>174512000</td>\n",
       "      <td>171133761</td>\n",
       "    </tr>\n",
       "    <tr>\n",
       "      <th>21573</th>\n",
       "      <td>ZWE</td>\n",
       "      <td>Zimbabwe</td>\n",
       "      <td>5</td>\n",
       "      <td>Sub-Saharan Africa</td>\n",
       "      <td>LMIC</td>\n",
       "      <td>Lower Middle Income Country</td>\n",
       "      <td>2</td>\n",
       "      <td>Obligations</td>\n",
       "      <td>2020</td>\n",
       "      <td>290348043</td>\n",
       "      <td>284727401</td>\n",
       "    </tr>\n",
       "    <tr>\n",
       "      <th>21594</th>\n",
       "      <td>ZWE</td>\n",
       "      <td>Zimbabwe</td>\n",
       "      <td>5</td>\n",
       "      <td>Sub-Saharan Africa</td>\n",
       "      <td>LMIC</td>\n",
       "      <td>Lower Middle Income Country</td>\n",
       "      <td>3</td>\n",
       "      <td>Disbursements</td>\n",
       "      <td>2020</td>\n",
       "      <td>235788780</td>\n",
       "      <td>231224298</td>\n",
       "    </tr>\n",
       "  </tbody>\n",
       "</table>\n",
       "<p>695 rows × 11 columns</p>\n",
       "</div>"
      ],
      "text/plain": [
       "      Country Code Country Name  Region ID             Region Name  \\\n",
       "10             ABW        Aruba          6      Western Hemisphere   \n",
       "139            AFG  Afghanistan          4  South and Central Asia   \n",
       "140            AFG  Afghanistan          4  South and Central Asia   \n",
       "141            AFG  Afghanistan          4  South and Central Asia   \n",
       "142            AFG  Afghanistan          4  South and Central Asia   \n",
       "...            ...          ...        ...                     ...   \n",
       "21465          ZMB       Zambia          5      Sub-Saharan Africa   \n",
       "21494          ZWE     Zimbabwe          5      Sub-Saharan Africa   \n",
       "21507          ZWE     Zimbabwe          5      Sub-Saharan Africa   \n",
       "21573          ZWE     Zimbabwe          5      Sub-Saharan Africa   \n",
       "21594          ZWE     Zimbabwe          5      Sub-Saharan Africa   \n",
       "\n",
       "      Income Group Acronym            Income Group Name  Transaction Type ID  \\\n",
       "10                     HIC          High Income Country                    2   \n",
       "139                    LIC           Low Income Country                    1   \n",
       "140                    LIC           Low Income Country                    2   \n",
       "141                    LIC           Low Income Country                    3   \n",
       "142                    LIC           Low Income Country                   18   \n",
       "...                    ...                          ...                  ...   \n",
       "21465                 LMIC  Lower Middle Income Country                   18   \n",
       "21494                  LIC           Low Income Country                    1   \n",
       "21507                  LIC           Low Income Country                   18   \n",
       "21573                 LMIC  Lower Middle Income Country                    2   \n",
       "21594                 LMIC  Lower Middle Income Country                    3   \n",
       "\n",
       "             Transaction Type Name  Fiscal Year  current_amount  \\\n",
       "10                     Obligations         2020         1296710   \n",
       "139       Appropriated and Planned         2020       332300000   \n",
       "140                    Obligations         2020      1190997567   \n",
       "141                  Disbursements         2020      1293139013   \n",
       "142    President's Budget Requests         2020       532800000   \n",
       "...                            ...          ...             ...   \n",
       "21465  President's Budget Requests         2020       364869000   \n",
       "21494     Appropriated and Planned         2020       294293000   \n",
       "21507  President's Budget Requests         2020       174512000   \n",
       "21573                  Obligations         2020       290348043   \n",
       "21594                Disbursements         2020       235788780   \n",
       "\n",
       "       constant_amount  \n",
       "10             1271608  \n",
       "139          325867267  \n",
       "140         1167941961  \n",
       "141         1268106147  \n",
       "142          522485943  \n",
       "...                ...  \n",
       "21465        357805788  \n",
       "21494        288596013  \n",
       "21507        171133761  \n",
       "21573        284727401  \n",
       "21594        231224298  \n",
       "\n",
       "[695 rows x 11 columns]"
      ]
     },
     "execution_count": 27,
     "metadata": {},
     "output_type": "execute_result"
    }
   ],
   "source": [
    "df[df[\"Fiscal Year\"] == 2020]"
   ]
  },
  {
   "cell_type": "markdown",
   "id": "ecd95774",
   "metadata": {},
   "source": [
    "Let's save that to a variable, df_2020, so that we can use this filtered data later"
   ]
  },
  {
   "cell_type": "code",
   "execution_count": 28,
   "id": "e8950633",
   "metadata": {},
   "outputs": [],
   "source": [
    "df_2020 = df[df[\"Fiscal Year\"] == 2020]"
   ]
  },
  {
   "cell_type": "markdown",
   "id": "30691d7b",
   "metadata": {},
   "source": [
    "### Pivot Tables"
   ]
  },
  {
   "cell_type": "markdown",
   "id": "9c59d5d0",
   "metadata": {},
   "source": [
    "Here's an example of an Excel pivot table that counts up how many aid disbersements there were of each transaction type in FY2020\n",
    "![pivot](images/image(4).png)"
   ]
  },
  {
   "cell_type": "markdown",
   "id": "f1b92869",
   "metadata": {},
   "source": [
    "In Pandas, creating simple pivot tables that only deal with one column is done using the value_counts() function. This is a function that operates directly from a column, so you access it with the following notation:\n",
    "    \n",
    "    df[\"column_name\"].value_counts()\n",
    "Let's keep working with the df_2020 variable we made, which is the original data filtered down to just FY2020"
   ]
  },
  {
   "cell_type": "code",
   "execution_count": 29,
   "id": "7aa665ff",
   "metadata": {},
   "outputs": [
    {
     "data": {
      "text/plain": [
       "Obligations                    207\n",
       "Disbursements                  205\n",
       "Appropriated and Planned       144\n",
       "President's Budget Requests    139\n",
       "Name: Transaction Type Name, dtype: int64"
      ]
     },
     "execution_count": 29,
     "metadata": {},
     "output_type": "execute_result"
    }
   ],
   "source": [
    "df_2020[\"Transaction Type Name\"].value_counts()"
   ]
  },
  {
   "cell_type": "markdown",
   "id": "2ce29375",
   "metadata": {},
   "source": [
    "Here's a slightly more complex pivot table, and in this case we can't just use value_counts(), we will have to use the more powerful pivot_table() function"
   ]
  },
  {
   "cell_type": "markdown",
   "id": "4b394f97",
   "metadata": {},
   "source": [
    "![complexpivot](images/image(3).png)"
   ]
  },
  {
   "cell_type": "markdown",
   "id": "14c1b5c1",
   "metadata": {},
   "source": [
    "pivot_table() is a function that you access from a full dataset, so the general syntax is:\n",
    "    \n",
    "    df.pivot_table()\n",
    "Let's use this pivot_table() function on our filtered down df_2020 dataset"
   ]
  },
  {
   "cell_type": "code",
   "execution_count": 30,
   "id": "77228767",
   "metadata": {},
   "outputs": [
    {
     "data": {
      "text/html": [
       "<div>\n",
       "<style scoped>\n",
       "    .dataframe tbody tr th:only-of-type {\n",
       "        vertical-align: middle;\n",
       "    }\n",
       "\n",
       "    .dataframe tbody tr th {\n",
       "        vertical-align: top;\n",
       "    }\n",
       "\n",
       "    .dataframe thead th {\n",
       "        text-align: right;\n",
       "    }\n",
       "</style>\n",
       "<table border=\"1\" class=\"dataframe\">\n",
       "  <thead>\n",
       "    <tr style=\"text-align: right;\">\n",
       "      <th></th>\n",
       "      <th>current_amount</th>\n",
       "    </tr>\n",
       "    <tr>\n",
       "      <th>Region Name</th>\n",
       "      <th></th>\n",
       "    </tr>\n",
       "  </thead>\n",
       "  <tbody>\n",
       "    <tr>\n",
       "      <th>East Asia and Oceania</th>\n",
       "      <td>5101748860</td>\n",
       "    </tr>\n",
       "    <tr>\n",
       "      <th>Europe and Eurasia</th>\n",
       "      <td>5097451170</td>\n",
       "    </tr>\n",
       "    <tr>\n",
       "      <th>Middle East and North Africa</th>\n",
       "      <td>35992369360</td>\n",
       "    </tr>\n",
       "    <tr>\n",
       "      <th>South and Central Asia</th>\n",
       "      <td>7083911354</td>\n",
       "    </tr>\n",
       "    <tr>\n",
       "      <th>Sub-Saharan Africa</th>\n",
       "      <td>32314978445</td>\n",
       "    </tr>\n",
       "    <tr>\n",
       "      <th>Western Hemisphere</th>\n",
       "      <td>7518593170</td>\n",
       "    </tr>\n",
       "    <tr>\n",
       "      <th>World</th>\n",
       "      <td>66104610709</td>\n",
       "    </tr>\n",
       "  </tbody>\n",
       "</table>\n",
       "</div>"
      ],
      "text/plain": [
       "                              current_amount\n",
       "Region Name                                 \n",
       "East Asia and Oceania             5101748860\n",
       "Europe and Eurasia                5097451170\n",
       "Middle East and North Africa     35992369360\n",
       "South and Central Asia            7083911354\n",
       "Sub-Saharan Africa               32314978445\n",
       "Western Hemisphere                7518593170\n",
       "World                            66104610709"
      ]
     },
     "execution_count": 30,
     "metadata": {},
     "output_type": "execute_result"
    }
   ],
   "source": [
    "df_2020.pivot_table(index='Region Name', values='current_amount', aggfunc='sum')"
   ]
  },
  {
   "attachments": {},
   "cell_type": "markdown",
   "id": "ed616148",
   "metadata": {},
   "source": [
    "<h1><mark>Challenge 2</mark>: Let's save that </h1>  \n",
    "\n",
    "Let's save that into a variable, `pivot_table`  \n",
    "At that point, it's a standalone dataset, and we can apply full dataset functions, like sort_values(). Apply sort_values() to your pivot table in the second cell below."
   ]
  },
  {
   "cell_type": "code",
   "execution_count": 31,
   "id": "63a10de3",
   "metadata": {},
   "outputs": [],
   "source": [
    "pivot_table = df_2020.pivot_table(index='Region Name', values='current_amount', aggfunc='sum')"
   ]
  },
  {
   "cell_type": "code",
   "execution_count": 32,
   "id": "c24d96ae",
   "metadata": {},
   "outputs": [
    {
     "data": {
      "text/html": [
       "<div>\n",
       "<style scoped>\n",
       "    .dataframe tbody tr th:only-of-type {\n",
       "        vertical-align: middle;\n",
       "    }\n",
       "\n",
       "    .dataframe tbody tr th {\n",
       "        vertical-align: top;\n",
       "    }\n",
       "\n",
       "    .dataframe thead th {\n",
       "        text-align: right;\n",
       "    }\n",
       "</style>\n",
       "<table border=\"1\" class=\"dataframe\">\n",
       "  <thead>\n",
       "    <tr style=\"text-align: right;\">\n",
       "      <th></th>\n",
       "      <th>current_amount</th>\n",
       "    </tr>\n",
       "    <tr>\n",
       "      <th>Region Name</th>\n",
       "      <th></th>\n",
       "    </tr>\n",
       "  </thead>\n",
       "  <tbody>\n",
       "    <tr>\n",
       "      <th>World</th>\n",
       "      <td>66104610709</td>\n",
       "    </tr>\n",
       "    <tr>\n",
       "      <th>Middle East and North Africa</th>\n",
       "      <td>35992369360</td>\n",
       "    </tr>\n",
       "    <tr>\n",
       "      <th>Sub-Saharan Africa</th>\n",
       "      <td>32314978445</td>\n",
       "    </tr>\n",
       "    <tr>\n",
       "      <th>Western Hemisphere</th>\n",
       "      <td>7518593170</td>\n",
       "    </tr>\n",
       "    <tr>\n",
       "      <th>South and Central Asia</th>\n",
       "      <td>7083911354</td>\n",
       "    </tr>\n",
       "    <tr>\n",
       "      <th>East Asia and Oceania</th>\n",
       "      <td>5101748860</td>\n",
       "    </tr>\n",
       "    <tr>\n",
       "      <th>Europe and Eurasia</th>\n",
       "      <td>5097451170</td>\n",
       "    </tr>\n",
       "  </tbody>\n",
       "</table>\n",
       "</div>"
      ],
      "text/plain": [
       "                              current_amount\n",
       "Region Name                                 \n",
       "World                            66104610709\n",
       "Middle East and North Africa     35992369360\n",
       "Sub-Saharan Africa               32314978445\n",
       "Western Hemisphere                7518593170\n",
       "South and Central Asia            7083911354\n",
       "East Asia and Oceania             5101748860\n",
       "Europe and Eurasia                5097451170"
      ]
     },
     "execution_count": 32,
     "metadata": {},
     "output_type": "execute_result"
    }
   ],
   "source": [
    "pivot_table.sort_values(by=\"current_amount\", ascending=False)"
   ]
  },
  {
   "cell_type": "markdown",
   "id": "20a6f809",
   "metadata": {},
   "source": [
    "Here's another slightly complex pivot table that sums up aid amounts for each fiscal year\n",
    "![pivotFY](images/image(2).png)"
   ]
  },
  {
   "cell_type": "code",
   "execution_count": 33,
   "id": "e00f41a3",
   "metadata": {},
   "outputs": [
    {
     "data": {
      "text/html": [
       "<div>\n",
       "<style scoped>\n",
       "    .dataframe tbody tr th:only-of-type {\n",
       "        vertical-align: middle;\n",
       "    }\n",
       "\n",
       "    .dataframe tbody tr th {\n",
       "        vertical-align: top;\n",
       "    }\n",
       "\n",
       "    .dataframe thead th {\n",
       "        text-align: right;\n",
       "    }\n",
       "</style>\n",
       "<table border=\"1\" class=\"dataframe\">\n",
       "  <thead>\n",
       "    <tr style=\"text-align: right;\">\n",
       "      <th></th>\n",
       "      <th>current_amount</th>\n",
       "    </tr>\n",
       "    <tr>\n",
       "      <th>Fiscal Year</th>\n",
       "      <th></th>\n",
       "    </tr>\n",
       "  </thead>\n",
       "  <tbody>\n",
       "    <tr>\n",
       "      <th>1946</th>\n",
       "      <td>3075702000</td>\n",
       "    </tr>\n",
       "    <tr>\n",
       "      <th>1947</th>\n",
       "      <td>6708001000</td>\n",
       "    </tr>\n",
       "    <tr>\n",
       "      <th>1948</th>\n",
       "      <td>3179504000</td>\n",
       "    </tr>\n",
       "    <tr>\n",
       "      <th>1949</th>\n",
       "      <td>8300704000</td>\n",
       "    </tr>\n",
       "    <tr>\n",
       "      <th>1950</th>\n",
       "      <td>5971296000</td>\n",
       "    </tr>\n",
       "    <tr>\n",
       "      <th>...</th>\n",
       "      <td>...</td>\n",
       "    </tr>\n",
       "    <tr>\n",
       "      <th>2018</th>\n",
       "      <td>208716100386</td>\n",
       "    </tr>\n",
       "    <tr>\n",
       "      <th>2019</th>\n",
       "      <td>208473462710</td>\n",
       "    </tr>\n",
       "    <tr>\n",
       "      <th>2020</th>\n",
       "      <td>159213663068</td>\n",
       "    </tr>\n",
       "    <tr>\n",
       "      <th>2021</th>\n",
       "      <td>73243656789</td>\n",
       "    </tr>\n",
       "    <tr>\n",
       "      <th>2022</th>\n",
       "      <td>42131052000</td>\n",
       "    </tr>\n",
       "  </tbody>\n",
       "</table>\n",
       "<p>77 rows × 1 columns</p>\n",
       "</div>"
      ],
      "text/plain": [
       "             current_amount\n",
       "Fiscal Year                \n",
       "1946             3075702000\n",
       "1947             6708001000\n",
       "1948             3179504000\n",
       "1949             8300704000\n",
       "1950             5971296000\n",
       "...                     ...\n",
       "2018           208716100386\n",
       "2019           208473462710\n",
       "2020           159213663068\n",
       "2021            73243656789\n",
       "2022            42131052000\n",
       "\n",
       "[77 rows x 1 columns]"
      ]
     },
     "execution_count": 33,
     "metadata": {},
     "output_type": "execute_result"
    }
   ],
   "source": [
    "df.pivot_table(index='Fiscal Year', values='current_amount', aggfunc='sum')"
   ]
  },
  {
   "cell_type": "markdown",
   "id": "a9d6df57",
   "metadata": {},
   "source": [
    "Let's save that into a variable, pivot_table_year, so we can keep using this dataset"
   ]
  },
  {
   "cell_type": "code",
   "execution_count": 34,
   "id": "6a5a5702",
   "metadata": {},
   "outputs": [],
   "source": [
    "pivot_table_year = df.pivot_table(index='Fiscal Year', values='current_amount', aggfunc='sum')"
   ]
  },
  {
   "cell_type": "markdown",
   "id": "c13ce028",
   "metadata": {},
   "source": [
    "### VLOOKUP()\n",
    "in Pandas, instead of VLOOKUP(), we use pd.merge()  \n",
    "I think that as a function, pd.merge() is actually a bit simpler that VLOOKUP().  \n",
    "Before we use the function though, let's load another dataset that we will be VLOOKUP()ing into.  \n",
    "In this case, we have U.S. GDP data for each year since 1947"
   ]
  },
  {
   "cell_type": "code",
   "execution_count": 35,
   "id": "fcb132db",
   "metadata": {},
   "outputs": [],
   "source": [
    "gdp = pd.read_csv(\"data/GDP.csv\")"
   ]
  },
  {
   "cell_type": "code",
   "execution_count": 36,
   "id": "0cf471e8",
   "metadata": {},
   "outputs": [
    {
     "data": {
      "text/html": [
       "<div>\n",
       "<style scoped>\n",
       "    .dataframe tbody tr th:only-of-type {\n",
       "        vertical-align: middle;\n",
       "    }\n",
       "\n",
       "    .dataframe tbody tr th {\n",
       "        vertical-align: top;\n",
       "    }\n",
       "\n",
       "    .dataframe thead th {\n",
       "        text-align: right;\n",
       "    }\n",
       "</style>\n",
       "<table border=\"1\" class=\"dataframe\">\n",
       "  <thead>\n",
       "    <tr style=\"text-align: right;\">\n",
       "      <th></th>\n",
       "      <th>Fiscal Year</th>\n",
       "      <th>GDP</th>\n",
       "    </tr>\n",
       "  </thead>\n",
       "  <tbody>\n",
       "    <tr>\n",
       "      <th>0</th>\n",
       "      <td>1947</td>\n",
       "      <td>260000000000.000000</td>\n",
       "    </tr>\n",
       "    <tr>\n",
       "      <th>1</th>\n",
       "      <td>1948</td>\n",
       "      <td>280000000000.000000</td>\n",
       "    </tr>\n",
       "    <tr>\n",
       "      <th>2</th>\n",
       "      <td>1949</td>\n",
       "      <td>271000000000.000000</td>\n",
       "    </tr>\n",
       "    <tr>\n",
       "      <th>3</th>\n",
       "      <td>1950</td>\n",
       "      <td>320000000000.000000</td>\n",
       "    </tr>\n",
       "    <tr>\n",
       "      <th>4</th>\n",
       "      <td>1951</td>\n",
       "      <td>356000000000.000000</td>\n",
       "    </tr>\n",
       "    <tr>\n",
       "      <th>...</th>\n",
       "      <td>...</td>\n",
       "      <td>...</td>\n",
       "    </tr>\n",
       "    <tr>\n",
       "      <th>69</th>\n",
       "      <td>2016</td>\n",
       "      <td>19000000000000.000000</td>\n",
       "    </tr>\n",
       "    <tr>\n",
       "      <th>70</th>\n",
       "      <td>2017</td>\n",
       "      <td>19900000000000.000000</td>\n",
       "    </tr>\n",
       "    <tr>\n",
       "      <th>71</th>\n",
       "      <td>2018</td>\n",
       "      <td>20800000000000.000000</td>\n",
       "    </tr>\n",
       "    <tr>\n",
       "      <th>72</th>\n",
       "      <td>2019</td>\n",
       "      <td>21700000000000.000000</td>\n",
       "    </tr>\n",
       "    <tr>\n",
       "      <th>73</th>\n",
       "      <td>2020</td>\n",
       "      <td>21500000000000.000000</td>\n",
       "    </tr>\n",
       "  </tbody>\n",
       "</table>\n",
       "<p>74 rows × 2 columns</p>\n",
       "</div>"
      ],
      "text/plain": [
       "    Fiscal Year                   GDP\n",
       "0          1947   260000000000.000000\n",
       "1          1948   280000000000.000000\n",
       "2          1949   271000000000.000000\n",
       "3          1950   320000000000.000000\n",
       "4          1951   356000000000.000000\n",
       "..          ...                   ...\n",
       "69         2016 19000000000000.000000\n",
       "70         2017 19900000000000.000000\n",
       "71         2018 20800000000000.000000\n",
       "72         2019 21700000000000.000000\n",
       "73         2020 21500000000000.000000\n",
       "\n",
       "[74 rows x 2 columns]"
      ]
     },
     "execution_count": 36,
     "metadata": {},
     "output_type": "execute_result"
    }
   ],
   "source": [
    "gdp"
   ]
  },
  {
   "cell_type": "markdown",
   "id": "243541d4",
   "metadata": {},
   "source": [
    "The structure of a VLOOKUP() is:\n",
    "    \n",
    "    VLOOKUP(value_to_lookup, dataset_2, number_of_column_to_match_on, exact_or_inexact_match)\n",
    "The structure of pd.merge() will be:\n",
    "    \n",
    "    pd.merge(dataset_1, dataset_2, column_to_match_on)\n",
    " \n",
    "Note that there are many more optional arguments you can add to pd.merge(), but we are just using those three.  \n",
    "Here's the VLOOKUP() code to join pivot_table_year and gdp on fiscal year:  \n",
    "![vlook](images/image(1).png)"
   ]
  },
  {
   "cell_type": "code",
   "execution_count": 37,
   "id": "64ed5971",
   "metadata": {},
   "outputs": [
    {
     "data": {
      "text/html": [
       "<div>\n",
       "<style scoped>\n",
       "    .dataframe tbody tr th:only-of-type {\n",
       "        vertical-align: middle;\n",
       "    }\n",
       "\n",
       "    .dataframe tbody tr th {\n",
       "        vertical-align: top;\n",
       "    }\n",
       "\n",
       "    .dataframe thead th {\n",
       "        text-align: right;\n",
       "    }\n",
       "</style>\n",
       "<table border=\"1\" class=\"dataframe\">\n",
       "  <thead>\n",
       "    <tr style=\"text-align: right;\">\n",
       "      <th></th>\n",
       "      <th>Fiscal Year</th>\n",
       "      <th>current_amount</th>\n",
       "      <th>GDP</th>\n",
       "    </tr>\n",
       "  </thead>\n",
       "  <tbody>\n",
       "    <tr>\n",
       "      <th>0</th>\n",
       "      <td>1947</td>\n",
       "      <td>6708001000</td>\n",
       "      <td>260000000000.000000</td>\n",
       "    </tr>\n",
       "    <tr>\n",
       "      <th>1</th>\n",
       "      <td>1948</td>\n",
       "      <td>3179504000</td>\n",
       "      <td>280000000000.000000</td>\n",
       "    </tr>\n",
       "    <tr>\n",
       "      <th>2</th>\n",
       "      <td>1949</td>\n",
       "      <td>8300704000</td>\n",
       "      <td>271000000000.000000</td>\n",
       "    </tr>\n",
       "    <tr>\n",
       "      <th>3</th>\n",
       "      <td>1950</td>\n",
       "      <td>5971296000</td>\n",
       "      <td>320000000000.000000</td>\n",
       "    </tr>\n",
       "    <tr>\n",
       "      <th>4</th>\n",
       "      <td>1951</td>\n",
       "      <td>7612560000</td>\n",
       "      <td>356000000000.000000</td>\n",
       "    </tr>\n",
       "    <tr>\n",
       "      <th>...</th>\n",
       "      <td>...</td>\n",
       "      <td>...</td>\n",
       "      <td>...</td>\n",
       "    </tr>\n",
       "    <tr>\n",
       "      <th>69</th>\n",
       "      <td>2016</td>\n",
       "      <td>229410557689</td>\n",
       "      <td>19000000000000.000000</td>\n",
       "    </tr>\n",
       "    <tr>\n",
       "      <th>70</th>\n",
       "      <td>2017</td>\n",
       "      <td>231653412868</td>\n",
       "      <td>19900000000000.000000</td>\n",
       "    </tr>\n",
       "    <tr>\n",
       "      <th>71</th>\n",
       "      <td>2018</td>\n",
       "      <td>208716100386</td>\n",
       "      <td>20800000000000.000000</td>\n",
       "    </tr>\n",
       "    <tr>\n",
       "      <th>72</th>\n",
       "      <td>2019</td>\n",
       "      <td>208473462710</td>\n",
       "      <td>21700000000000.000000</td>\n",
       "    </tr>\n",
       "    <tr>\n",
       "      <th>73</th>\n",
       "      <td>2020</td>\n",
       "      <td>159213663068</td>\n",
       "      <td>21500000000000.000000</td>\n",
       "    </tr>\n",
       "  </tbody>\n",
       "</table>\n",
       "<p>74 rows × 3 columns</p>\n",
       "</div>"
      ],
      "text/plain": [
       "    Fiscal Year  current_amount                   GDP\n",
       "0          1947      6708001000   260000000000.000000\n",
       "1          1948      3179504000   280000000000.000000\n",
       "2          1949      8300704000   271000000000.000000\n",
       "3          1950      5971296000   320000000000.000000\n",
       "4          1951      7612560000   356000000000.000000\n",
       "..          ...             ...                   ...\n",
       "69         2016    229410557689 19000000000000.000000\n",
       "70         2017    231653412868 19900000000000.000000\n",
       "71         2018    208716100386 20800000000000.000000\n",
       "72         2019    208473462710 21700000000000.000000\n",
       "73         2020    159213663068 21500000000000.000000\n",
       "\n",
       "[74 rows x 3 columns]"
      ]
     },
     "execution_count": 37,
     "metadata": {},
     "output_type": "execute_result"
    }
   ],
   "source": [
    "pd.merge(pivot_table_year, gdp, on=\"Fiscal Year\")"
   ]
  },
  {
   "cell_type": "markdown",
   "id": "6e113c08",
   "metadata": {},
   "source": [
    "Now let's assign that new merged data set to a variable so that we can keep using it"
   ]
  },
  {
   "cell_type": "code",
   "execution_count": 38,
   "id": "c705a33b",
   "metadata": {},
   "outputs": [],
   "source": [
    "df_merged = pd.merge(pivot_table_year, gdp, on=\"Fiscal Year\")"
   ]
  },
  {
   "cell_type": "markdown",
   "id": "aa7439d4",
   "metadata": {},
   "source": [
    "### Calculating new columns\n",
    "In Excel, calculating a new column means applying a basic arithmetic formula to one cell, then applying that same forumula to the whole column.  \n",
    "![calc](images/image.png)\n",
    "  \n",
    "In Pandas, we can just apply arithmetic to entire columns, and it will automatically apply it row by row"
   ]
  },
  {
   "cell_type": "code",
   "execution_count": 39,
   "id": "00f7adf3",
   "metadata": {},
   "outputs": [
    {
     "data": {
      "text/plain": [
       "0    0.025800\n",
       "1    0.011355\n",
       "2    0.030630\n",
       "3    0.018660\n",
       "4    0.021384\n",
       "       ...   \n",
       "69   0.012074\n",
       "70   0.011641\n",
       "71   0.010034\n",
       "72   0.009607\n",
       "73   0.007405\n",
       "Length: 74, dtype: float64"
      ]
     },
     "execution_count": 39,
     "metadata": {},
     "output_type": "execute_result"
    }
   ],
   "source": [
    "df_merged[\"current_amount\"] / df_merged[\"GDP\"]"
   ]
  },
  {
   "cell_type": "markdown",
   "id": "7c118c54",
   "metadata": {},
   "source": [
    "Let's save that calculated column as a new column in our dataset. We can do that by just referring to the new column name like so:  \n",
    "    \n",
    "    df_merged[\"amount_as_%_GDP\"]\n",
    "Then setting that column equal to the calculated column above"
   ]
  },
  {
   "cell_type": "code",
   "execution_count": 40,
   "id": "8c7f5bf8",
   "metadata": {},
   "outputs": [],
   "source": [
    "df_merged[\"amount_as_%_GDP\"] = df_merged[\"current_amount\"] / df_merged[\"GDP\"]"
   ]
  },
  {
   "cell_type": "code",
   "execution_count": 41,
   "id": "eb21e5dc",
   "metadata": {},
   "outputs": [
    {
     "data": {
      "text/html": [
       "<div>\n",
       "<style scoped>\n",
       "    .dataframe tbody tr th:only-of-type {\n",
       "        vertical-align: middle;\n",
       "    }\n",
       "\n",
       "    .dataframe tbody tr th {\n",
       "        vertical-align: top;\n",
       "    }\n",
       "\n",
       "    .dataframe thead th {\n",
       "        text-align: right;\n",
       "    }\n",
       "</style>\n",
       "<table border=\"1\" class=\"dataframe\">\n",
       "  <thead>\n",
       "    <tr style=\"text-align: right;\">\n",
       "      <th></th>\n",
       "      <th>Fiscal Year</th>\n",
       "      <th>current_amount</th>\n",
       "      <th>GDP</th>\n",
       "      <th>amount_as_%_GDP</th>\n",
       "    </tr>\n",
       "  </thead>\n",
       "  <tbody>\n",
       "    <tr>\n",
       "      <th>0</th>\n",
       "      <td>1947</td>\n",
       "      <td>6708001000</td>\n",
       "      <td>260000000000.000000</td>\n",
       "      <td>0.025800</td>\n",
       "    </tr>\n",
       "    <tr>\n",
       "      <th>1</th>\n",
       "      <td>1948</td>\n",
       "      <td>3179504000</td>\n",
       "      <td>280000000000.000000</td>\n",
       "      <td>0.011355</td>\n",
       "    </tr>\n",
       "    <tr>\n",
       "      <th>2</th>\n",
       "      <td>1949</td>\n",
       "      <td>8300704000</td>\n",
       "      <td>271000000000.000000</td>\n",
       "      <td>0.030630</td>\n",
       "    </tr>\n",
       "    <tr>\n",
       "      <th>3</th>\n",
       "      <td>1950</td>\n",
       "      <td>5971296000</td>\n",
       "      <td>320000000000.000000</td>\n",
       "      <td>0.018660</td>\n",
       "    </tr>\n",
       "    <tr>\n",
       "      <th>4</th>\n",
       "      <td>1951</td>\n",
       "      <td>7612560000</td>\n",
       "      <td>356000000000.000000</td>\n",
       "      <td>0.021384</td>\n",
       "    </tr>\n",
       "    <tr>\n",
       "      <th>...</th>\n",
       "      <td>...</td>\n",
       "      <td>...</td>\n",
       "      <td>...</td>\n",
       "      <td>...</td>\n",
       "    </tr>\n",
       "    <tr>\n",
       "      <th>69</th>\n",
       "      <td>2016</td>\n",
       "      <td>229410557689</td>\n",
       "      <td>19000000000000.000000</td>\n",
       "      <td>0.012074</td>\n",
       "    </tr>\n",
       "    <tr>\n",
       "      <th>70</th>\n",
       "      <td>2017</td>\n",
       "      <td>231653412868</td>\n",
       "      <td>19900000000000.000000</td>\n",
       "      <td>0.011641</td>\n",
       "    </tr>\n",
       "    <tr>\n",
       "      <th>71</th>\n",
       "      <td>2018</td>\n",
       "      <td>208716100386</td>\n",
       "      <td>20800000000000.000000</td>\n",
       "      <td>0.010034</td>\n",
       "    </tr>\n",
       "    <tr>\n",
       "      <th>72</th>\n",
       "      <td>2019</td>\n",
       "      <td>208473462710</td>\n",
       "      <td>21700000000000.000000</td>\n",
       "      <td>0.009607</td>\n",
       "    </tr>\n",
       "    <tr>\n",
       "      <th>73</th>\n",
       "      <td>2020</td>\n",
       "      <td>159213663068</td>\n",
       "      <td>21500000000000.000000</td>\n",
       "      <td>0.007405</td>\n",
       "    </tr>\n",
       "  </tbody>\n",
       "</table>\n",
       "<p>74 rows × 4 columns</p>\n",
       "</div>"
      ],
      "text/plain": [
       "    Fiscal Year  current_amount                   GDP  amount_as_%_GDP\n",
       "0          1947      6708001000   260000000000.000000         0.025800\n",
       "1          1948      3179504000   280000000000.000000         0.011355\n",
       "2          1949      8300704000   271000000000.000000         0.030630\n",
       "3          1950      5971296000   320000000000.000000         0.018660\n",
       "4          1951      7612560000   356000000000.000000         0.021384\n",
       "..          ...             ...                   ...              ...\n",
       "69         2016    229410557689 19000000000000.000000         0.012074\n",
       "70         2017    231653412868 19900000000000.000000         0.011641\n",
       "71         2018    208716100386 20800000000000.000000         0.010034\n",
       "72         2019    208473462710 21700000000000.000000         0.009607\n",
       "73         2020    159213663068 21500000000000.000000         0.007405\n",
       "\n",
       "[74 rows x 4 columns]"
      ]
     },
     "execution_count": 41,
     "metadata": {},
     "output_type": "execute_result"
    }
   ],
   "source": [
    "df_merged"
   ]
  },
  {
   "attachments": {},
   "cell_type": "markdown",
   "id": "58271774",
   "metadata": {},
   "source": [
    "### Plotting\n",
    "Plotting in Python can be a little bit complicated. Many of what are considered the best data visualization libraries (D3, Leaflet) are written in JavaScript rather than Python. Python has an (in)famous library, `matplotlib`, that can create just about any plot you can imagine, but it is very confusing.  \n",
    "\n",
    "Thankfully, we have access to a very simple plotting function in pandas that we will use to get a quick taste of plotting in Python.  \n",
    "`plot()` is a function that can apply to entire datasets, so we access it from a dataset variable\n",
    "    \n",
    "    df.plot(x, y)\n",
    "We will be using the df_merged dataset we made earlier"
   ]
  },
  {
   "cell_type": "code",
   "execution_count": 42,
   "id": "c65bfca6",
   "metadata": {},
   "outputs": [
    {
     "data": {
      "text/plain": [
       "<AxesSubplot: xlabel='Fiscal Year'>"
      ]
     },
     "execution_count": 42,
     "metadata": {},
     "output_type": "execute_result"
    },
    {
     "data": {
      "image/png": "[encoded data removed]",
      "text/plain": [
       "<Figure size 640x480 with 1 Axes>"
      ]
     },
     "metadata": {},
     "output_type": "display_data"
    }
   ],
   "source": [
    "df_merged.plot(x=\"Fiscal Year\", y=\"current_amount\")"
   ]
  },
  {
   "cell_type": "code",
   "execution_count": 43,
   "id": "a1b8880b",
   "metadata": {},
   "outputs": [
    {
     "data": {
      "text/plain": [
       "<AxesSubplot: xlabel='Fiscal Year'>"
      ]
     },
     "execution_count": 43,
     "metadata": {},
     "output_type": "execute_result"
    },
    {
     "data": {
      "image/png": "[encoded data removed]",
      "text/plain": [
       "<Figure size 640x480 with 1 Axes>"
      ]
     },
     "metadata": {},
     "output_type": "display_data"
    }
   ],
   "source": [
    "df_merged.plot(x=\"Fiscal Year\", y=\"amount_as_%_GDP\")"
   ]
  },
  {
   "attachments": {},
   "cell_type": "markdown",
   "id": "e21e9b73",
   "metadata": {},
   "source": [
    "We can change the style of the graph a little bit using matplotlib's built in styles. One of them is called \"fivethirtyeight\" as it attempts to mimic the style of graphs from the FiveThirtyEight website.  \n",
    "\n",
    "<h1><mark>Challenge 3</mark>: FiveThirtyEight Plots </h1>\n",
    "In the cells below, re-make the plots from above, but this time in the \"fivethirtyeight\" style. Run the code below to load the new style."
   ]
  },
  {
   "cell_type": "code",
   "execution_count": 44,
   "id": "2cc47dbd",
   "metadata": {},
   "outputs": [],
   "source": [
    "import matplotlib\n",
    "matplotlib.style.use('fivethirtyeight')"
   ]
  },
  {
   "cell_type": "code",
   "execution_count": 45,
   "id": "c2d7ed8c",
   "metadata": {},
   "outputs": [
    {
     "data": {
      "text/plain": [
       "<AxesSubplot: xlabel='Fiscal Year'>"
      ]
     },
     "execution_count": 45,
     "metadata": {},
     "output_type": "execute_result"
    },
    {
     "data": {
      "image/png": "[encoded data removed]",
      "text/plain": [
       "<Figure size 640x480 with 1 Axes>"
      ]
     },
     "metadata": {},
     "output_type": "display_data"
    }
   ],
   "source": [
    "df_merged.plot(x=\"Fiscal Year\", y=\"current_amount\")"
   ]
  },
  {
   "cell_type": "code",
   "execution_count": 46,
   "id": "fab352cc",
   "metadata": {},
   "outputs": [
    {
     "data": {
      "text/plain": [
       "<AxesSubplot: xlabel='Fiscal Year'>"
      ]
     },
     "execution_count": 46,
     "metadata": {},
     "output_type": "execute_result"
    },
    {
     "data": {
      "image/png": "[encoded data removed]",
      "text/plain": [
       "<Figure size 640x480 with 1 Axes>"
      ]
     },
     "metadata": {},
     "output_type": "display_data"
    }
   ],
   "source": [
    "df_merged.plot(x=\"Fiscal Year\", y=\"amount_as_%_GDP\")"
   ]
  }
 ],
 "metadata": {
  "kernelspec": {
   "display_name": "Python 3.9.15 ('base')",
   "language": "python",
   "name": "python3"
  },
  "language_info": {
   "codemirror_mode": {
    "name": "ipython",
    "version": 3
   },
   "file_extension": ".py",
   "mimetype": "text/x-python",
   "name": "python",
   "nbconvert_exporter": "python",
   "pygments_lexer": "ipython3",
   "version": "3.9.15"
  },
  "vscode": {
   "interpreter": {
    "hash": "2fb3e3cc635cfb08fd7ff4ababbec3e46cec7b961d3626ef22719eb44f0b8a49"
   }
  }
 },
 "nbformat": 4,
 "nbformat_minor": 5
}
