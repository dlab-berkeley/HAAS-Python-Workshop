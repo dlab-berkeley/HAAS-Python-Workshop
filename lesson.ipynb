{
 "cells": [
  {
   "cell_type": "markdown",
   "id": "ecd3ecd0",
   "metadata": {},
   "source": [
    "Welcome to Python (in Jupyter Notebook)!  "
   ]
  },
  {
   "cell_type": "markdown",
   "id": "cab551a8",
   "metadata": {},
   "source": [
    "### Entering Code\n",
    "Before we load the data, let's talk a little more about how Python is and isn't like the Excel formula editor (the place you've been doing your coding in excel).  \n",
    "Just like in Excel, you can enter code or formula into each cell of this jupyter notebook. **You press \"Run\" or shift+enter to see the result**"
   ]
  },
  {
   "cell_type": "code",
   "execution_count": 7,
   "id": "6d97d4c7",
   "metadata": {},
   "outputs": [
    {
     "data": {
      "text/plain": [
       "'hello class'"
      ]
     },
     "execution_count": 7,
     "metadata": {},
     "output_type": "execute_result"
    }
   ],
   "source": [
    "\"hello class\""
   ]
  },
  {
   "cell_type": "code",
   "execution_count": 8,
   "id": "d4df8d75",
   "metadata": {},
   "outputs": [
    {
     "data": {
      "text/plain": [
       "15"
      ]
     },
     "execution_count": 8,
     "metadata": {},
     "output_type": "execute_result"
    }
   ],
   "source": [
    "(1+4)*3"
   ]
  },
  {
   "cell_type": "code",
   "execution_count": 9,
   "id": "5b038235",
   "metadata": {},
   "outputs": [
    {
     "data": {
      "text/plain": [
       "'hello class'"
      ]
     },
     "execution_count": 9,
     "metadata": {},
     "output_type": "execute_result"
    }
   ],
   "source": [
    "\"hello\" + \" \" + \"class\""
   ]
  },
  {
   "cell_type": "markdown",
   "id": "d3f42241",
   "metadata": {},
   "source": [
    "### Assigning Variables\n",
    "In Excel, when you type a formula, it is already assigned to a cell.  \n",
    "For example, here I am putting the formula **CONCAT(\"hello\", \" peter\")** into cell A1\n",
    "![myimg](https://lh3.googleusercontent.com/pw/AM-JKLU0EqN3Bq2PbCB6wvNNVfAZyeFVAAtppHkeNm7Z8xzTYkRr2c2KTLUuZ9GoTo8p4aqd3C61cEZDBCzwW5bA3mRIsRvWm_G99no_rY7nvQRqNNY-mNuZi1A0URWLsuSz7IE0jU9LFjXZ2tGgpW_LIyrP=w1911-h552-no?authuser=0)"
   ]
  },
  {
   "cell_type": "markdown",
   "id": "8d94a43d",
   "metadata": {},
   "source": [
    "In Python, the same code would look like this (in Python you can use + instead of CONCAT):"
   ]
  },
  {
   "cell_type": "code",
   "execution_count": 11,
   "id": "4804e497",
   "metadata": {},
   "outputs": [],
   "source": [
    "A1 = \"hello\" + \" peter\""
   ]
  },
  {
   "cell_type": "code",
   "execution_count": 12,
   "id": "c83aa72f",
   "metadata": {},
   "outputs": [
    {
     "data": {
      "text/plain": [
       "'hello peter'"
      ]
     },
     "execution_count": 12,
     "metadata": {},
     "output_type": "execute_result"
    }
   ],
   "source": [
    "A1"
   ]
  },
  {
   "cell_type": "code",
   "execution_count": 17,
   "id": "0b310037",
   "metadata": {},
   "outputs": [],
   "source": [
    "result = (45*710)**.5"
   ]
  },
  {
   "cell_type": "code",
   "execution_count": 18,
   "id": "51468f02",
   "metadata": {},
   "outputs": [
    {
     "data": {
      "text/plain": [
       "178.74562931719478"
      ]
     },
     "execution_count": 18,
     "metadata": {},
     "output_type": "execute_result"
    }
   ],
   "source": [
    "result"
   ]
  },
  {
   "cell_type": "markdown",
   "id": "49fa3b55",
   "metadata": {},
   "source": [
    "The biggest difference here is that we can't see what all of our assigned variables are in a clean spreadsheet layout like in Excel. We assign values to variables rather than positioning them in a spreadsheet."
   ]
  },
  {
   "cell_type": "markdown",
   "id": "b65a0461",
   "metadata": {},
   "source": [
    "### Functions\n",
    "Functions actually work pretty similar in Excel functions and in Python. One of the biggest differences is that it's a lot easier to write custom functions in Python, but we won't be getting into that. Consider the code in Excel for adding up a list of number, in this case 1, 2, 3, 4. SUM(A1:A4)  \n",
    "![myimg](https://lh3.googleusercontent.com/7hbtm17d8pSLLcm31cIp9G0HYofgQVZyi29EgcPB6cifs8HmAn9v1T_CkiKK9GVHlbFsmdDMsXWAoprXl7rjvJ-vmK_zFTKkV1mbZMX_HmxczE_Qj4Jafl1a2JAbTEWifn30izSQSWfnEn_l4aPkVJ2gA6n0GT59PLT0H-4Nh43LPpat__HEE-X2MKpGQ278C7tS0NDSH-arI8fR28VdWNM60JeVCnvfJY3Fs9M3koF-am57HsyyAYwbklMlC4g3J14aN4pP0jwFGm5QI32vi9Gli9P70lqkxI0QFKpnUmcUz6exgbHvWTm-DhEIh-WkrR96qugk4Emgy8VXa8SAzdJeR04mu0tXi8ZMQ1MYConqclD94D0nBgHcetxp_9fbDvnMkKtYsJafWGiEe7-Hxl7bdNAZEhuUE-vZ6O7ataEQLyGoZ8rxNXzm9Ofk4EcV3uwuO7LYqNlYaDTLt1tYkCIwVR_Y8p7UMKGHDUUZXnCruvCjU37EweI0sgTMBIyIXY11qOqvfBvFUMgbTDbuR6tV2RHqQm_4Wj7cXKg-COnaS8sk8xqcYOANI_Jrf27zQUKXlURnrYdIuHqzdpHzEpxwKYVflsbB01Yq0IAa3fB7Re2dXQ96ki3HUc_v2WSIjGD3xK7rBzfgnMjnKmgHRqehnye3sJayzv3fMvGmumCKnlkLjeHPtyVuXUVayGsdKsDMwFjqf03ANEz0iILE6_k=w1887-h708-no?authuser=1)"
   ]
  },
  {
   "cell_type": "markdown",
   "id": "abf2c29b",
   "metadata": {},
   "source": [
    "The process in Python is very similar"
   ]
  },
  {
   "cell_type": "code",
   "execution_count": 22,
   "id": "d55e2aa3",
   "metadata": {},
   "outputs": [
    {
     "data": {
      "text/plain": [
       "10"
      ]
     },
     "execution_count": 22,
     "metadata": {},
     "output_type": "execute_result"
    }
   ],
   "source": [
    "A = [1, 2, 3, 4]\n",
    "B1 = sum(A)\n",
    "B1"
   ]
  },
  {
   "cell_type": "markdown",
   "id": "c9e513b9",
   "metadata": {},
   "source": [
    "### Data Analysis\n",
    "OK, congrats you now get the basics of what Python is. There are a lot of important topics we are going to gloss over now - interation, logical operators (AND, OR, IF), defining custom functions, etc. However, I want us to get into using Python for actual tasks as quickly as possible, so we are going to leverage what's built into the Pandas library now, because that's what you would actually be doing most of the time if you were using Python for work."
   ]
  },
  {
   "cell_type": "markdown",
   "id": "04b88a97",
   "metadata": {},
   "source": [
    "The following code will load the Pandas library and make it so that we can reference Pandas by just typing in pd (it's like a nickname)  \n",
    "I also include a tiny bit of code that Pandas won't use scientific notation. This is personal preference (I never now what scientific notation means)"
   ]
  },
  {
   "cell_type": "code",
   "execution_count": 42,
   "id": "6538cfe0",
   "metadata": {},
   "outputs": [],
   "source": [
    "import pandas as pd\n",
    "pd.set_option('display.float_format', lambda x: '%.2f' % x)"
   ]
  },
  {
   "cell_type": "markdown",
   "id": "c5a0e569",
   "metadata": {},
   "source": [
    "We assigned the result of pd.read_csv(), which can read in a csv file, to a variable called df (short for data frame), which we’ll use to refer to our data"
   ]
  },
  {
   "cell_type": "code",
   "execution_count": 35,
   "id": "13a38d23",
   "metadata": {},
   "outputs": [],
   "source": [
    "df = pd.read_csv(\"Week_10_Workbook_FINAL_2021.csv\")"
   ]
  },
  {
   "cell_type": "markdown",
   "id": "3a44228b",
   "metadata": {},
   "source": [
    "When we type in df, we can see our table"
   ]
  },
  {
   "cell_type": "code",
   "execution_count": 36,
   "id": "dc957a1f",
   "metadata": {},
   "outputs": [
    {
     "data": {
      "text/html": [
       "<div>\n",
       "<style scoped>\n",
       "    .dataframe tbody tr th:only-of-type {\n",
       "        vertical-align: middle;\n",
       "    }\n",
       "\n",
       "    .dataframe tbody tr th {\n",
       "        vertical-align: top;\n",
       "    }\n",
       "\n",
       "    .dataframe thead th {\n",
       "        text-align: right;\n",
       "    }\n",
       "</style>\n",
       "<table border=\"1\" class=\"dataframe\">\n",
       "  <thead>\n",
       "    <tr style=\"text-align: right;\">\n",
       "      <th></th>\n",
       "      <th>Country Code</th>\n",
       "      <th>Country Name</th>\n",
       "      <th>Region ID</th>\n",
       "      <th>Region Name</th>\n",
       "      <th>Income Group Acronym</th>\n",
       "      <th>Income Group Name</th>\n",
       "      <th>Transaction Type ID</th>\n",
       "      <th>Transaction Type Name</th>\n",
       "      <th>Fiscal Year</th>\n",
       "      <th>current_amount</th>\n",
       "      <th>constant_amount</th>\n",
       "    </tr>\n",
       "  </thead>\n",
       "  <tbody>\n",
       "    <tr>\n",
       "      <th>0</th>\n",
       "      <td>ABW</td>\n",
       "      <td>Aruba</td>\n",
       "      <td>6</td>\n",
       "      <td>Western Hemisphere</td>\n",
       "      <td>HIC</td>\n",
       "      <td>High Income Country</td>\n",
       "      <td>2</td>\n",
       "      <td>Obligations</td>\n",
       "      <td>1999</td>\n",
       "      <td>19000</td>\n",
       "      <td>27957</td>\n",
       "    </tr>\n",
       "    <tr>\n",
       "      <th>1</th>\n",
       "      <td>ABW</td>\n",
       "      <td>Aruba</td>\n",
       "      <td>6</td>\n",
       "      <td>Western Hemisphere</td>\n",
       "      <td>HIC</td>\n",
       "      <td>High Income Country</td>\n",
       "      <td>2</td>\n",
       "      <td>Obligations</td>\n",
       "      <td>2000</td>\n",
       "      <td>50000</td>\n",
       "      <td>72090</td>\n",
       "    </tr>\n",
       "    <tr>\n",
       "      <th>2</th>\n",
       "      <td>ABW</td>\n",
       "      <td>Aruba</td>\n",
       "      <td>6</td>\n",
       "      <td>Western Hemisphere</td>\n",
       "      <td>HIC</td>\n",
       "      <td>High Income Country</td>\n",
       "      <td>2</td>\n",
       "      <td>Obligations</td>\n",
       "      <td>2004</td>\n",
       "      <td>1000</td>\n",
       "      <td>1330</td>\n",
       "    </tr>\n",
       "    <tr>\n",
       "      <th>3</th>\n",
       "      <td>ABW</td>\n",
       "      <td>Aruba</td>\n",
       "      <td>6</td>\n",
       "      <td>Western Hemisphere</td>\n",
       "      <td>HIC</td>\n",
       "      <td>High Income Country</td>\n",
       "      <td>2</td>\n",
       "      <td>Obligations</td>\n",
       "      <td>2005</td>\n",
       "      <td>29270</td>\n",
       "      <td>37766</td>\n",
       "    </tr>\n",
       "    <tr>\n",
       "      <th>4</th>\n",
       "      <td>ABW</td>\n",
       "      <td>Aruba</td>\n",
       "      <td>6</td>\n",
       "      <td>Western Hemisphere</td>\n",
       "      <td>HIC</td>\n",
       "      <td>High Income Country</td>\n",
       "      <td>2</td>\n",
       "      <td>Obligations</td>\n",
       "      <td>2006</td>\n",
       "      <td>1000</td>\n",
       "      <td>1250</td>\n",
       "    </tr>\n",
       "    <tr>\n",
       "      <th>...</th>\n",
       "      <td>...</td>\n",
       "      <td>...</td>\n",
       "      <td>...</td>\n",
       "      <td>...</td>\n",
       "      <td>...</td>\n",
       "      <td>...</td>\n",
       "      <td>...</td>\n",
       "      <td>...</td>\n",
       "      <td>...</td>\n",
       "      <td>...</td>\n",
       "      <td>...</td>\n",
       "    </tr>\n",
       "    <tr>\n",
       "      <th>21591</th>\n",
       "      <td>ZWE</td>\n",
       "      <td>Zimbabwe</td>\n",
       "      <td>5</td>\n",
       "      <td>Sub-Saharan Africa</td>\n",
       "      <td>LMIC</td>\n",
       "      <td>Lower Middle Income Country</td>\n",
       "      <td>3</td>\n",
       "      <td>Disbursements</td>\n",
       "      <td>2017</td>\n",
       "      <td>226474886</td>\n",
       "      <td>236243092</td>\n",
       "    </tr>\n",
       "    <tr>\n",
       "      <th>21592</th>\n",
       "      <td>ZWE</td>\n",
       "      <td>Zimbabwe</td>\n",
       "      <td>5</td>\n",
       "      <td>Sub-Saharan Africa</td>\n",
       "      <td>LMIC</td>\n",
       "      <td>Lower Middle Income Country</td>\n",
       "      <td>3</td>\n",
       "      <td>Disbursements</td>\n",
       "      <td>2018</td>\n",
       "      <td>227007896</td>\n",
       "      <td>231411384</td>\n",
       "    </tr>\n",
       "    <tr>\n",
       "      <th>21593</th>\n",
       "      <td>ZWE</td>\n",
       "      <td>Zimbabwe</td>\n",
       "      <td>5</td>\n",
       "      <td>Sub-Saharan Africa</td>\n",
       "      <td>LMIC</td>\n",
       "      <td>Lower Middle Income Country</td>\n",
       "      <td>3</td>\n",
       "      <td>Disbursements</td>\n",
       "      <td>2019</td>\n",
       "      <td>259153975</td>\n",
       "      <td>259153975</td>\n",
       "    </tr>\n",
       "    <tr>\n",
       "      <th>21594</th>\n",
       "      <td>ZWE</td>\n",
       "      <td>Zimbabwe</td>\n",
       "      <td>5</td>\n",
       "      <td>Sub-Saharan Africa</td>\n",
       "      <td>LMIC</td>\n",
       "      <td>Lower Middle Income Country</td>\n",
       "      <td>3</td>\n",
       "      <td>Disbursements</td>\n",
       "      <td>2020</td>\n",
       "      <td>235788780</td>\n",
       "      <td>231224298</td>\n",
       "    </tr>\n",
       "    <tr>\n",
       "      <th>21595</th>\n",
       "      <td>ZWE</td>\n",
       "      <td>Zimbabwe</td>\n",
       "      <td>5</td>\n",
       "      <td>Sub-Saharan Africa</td>\n",
       "      <td>LMIC</td>\n",
       "      <td>Lower Middle Income Country</td>\n",
       "      <td>3</td>\n",
       "      <td>Disbursements</td>\n",
       "      <td>2021</td>\n",
       "      <td>186140320</td>\n",
       "      <td>178963321</td>\n",
       "    </tr>\n",
       "  </tbody>\n",
       "</table>\n",
       "<p>21596 rows × 11 columns</p>\n",
       "</div>"
      ],
      "text/plain": [
       "      Country Code Country Name  Region ID         Region Name  \\\n",
       "0              ABW        Aruba          6  Western Hemisphere   \n",
       "1              ABW        Aruba          6  Western Hemisphere   \n",
       "2              ABW        Aruba          6  Western Hemisphere   \n",
       "3              ABW        Aruba          6  Western Hemisphere   \n",
       "4              ABW        Aruba          6  Western Hemisphere   \n",
       "...            ...          ...        ...                 ...   \n",
       "21591          ZWE     Zimbabwe          5  Sub-Saharan Africa   \n",
       "21592          ZWE     Zimbabwe          5  Sub-Saharan Africa   \n",
       "21593          ZWE     Zimbabwe          5  Sub-Saharan Africa   \n",
       "21594          ZWE     Zimbabwe          5  Sub-Saharan Africa   \n",
       "21595          ZWE     Zimbabwe          5  Sub-Saharan Africa   \n",
       "\n",
       "      Income Group Acronym            Income Group Name  Transaction Type ID  \\\n",
       "0                      HIC          High Income Country                    2   \n",
       "1                      HIC          High Income Country                    2   \n",
       "2                      HIC          High Income Country                    2   \n",
       "3                      HIC          High Income Country                    2   \n",
       "4                      HIC          High Income Country                    2   \n",
       "...                    ...                          ...                  ...   \n",
       "21591                 LMIC  Lower Middle Income Country                    3   \n",
       "21592                 LMIC  Lower Middle Income Country                    3   \n",
       "21593                 LMIC  Lower Middle Income Country                    3   \n",
       "21594                 LMIC  Lower Middle Income Country                    3   \n",
       "21595                 LMIC  Lower Middle Income Country                    3   \n",
       "\n",
       "      Transaction Type Name Fiscal Year  current_amount  constant_amount  \n",
       "0               Obligations        1999           19000            27957  \n",
       "1               Obligations        2000           50000            72090  \n",
       "2               Obligations        2004            1000             1330  \n",
       "3               Obligations        2005           29270            37766  \n",
       "4               Obligations        2006            1000             1250  \n",
       "...                     ...         ...             ...              ...  \n",
       "21591         Disbursements        2017       226474886        236243092  \n",
       "21592         Disbursements        2018       227007896        231411384  \n",
       "21593         Disbursements        2019       259153975        259153975  \n",
       "21594         Disbursements        2020       235788780        231224298  \n",
       "21595         Disbursements        2021       186140320        178963321  \n",
       "\n",
       "[21596 rows x 11 columns]"
      ]
     },
     "execution_count": 36,
     "metadata": {},
     "output_type": "execute_result"
    }
   ],
   "source": [
    "df"
   ]
  },
  {
   "cell_type": "markdown",
   "id": "5f7e6bf0",
   "metadata": {},
   "source": [
    "### Getting Descriptive Stats\n",
    "In Excel, I would use analysis toolpak and get the descriptive stats like this:\n",
    "![stats](https://lh3.googleusercontent.com/g3vvGL_nApxwPcISnn5pIpdKxdhfgabOeT1DERcxhUaP_xSDcqy0jgZQzIuXbFbMJoEzLDin1ZDOeNwrV0xZwcymEjbvycSCp2EzCfH5-yeoPoqcjBOYs7wuxjqJoWy1BefN88C1I3RAB1sojjc3glWyaRecdvePV2qlUcTjyZ_Yae0bg1WVAqBthMG8B7JvgPP0bH_yuwvrk5iGEFTrqzMLawk9-tuLir8fnL0XT6jLSXY1XSozWfeDqpzDXbiy0r1Fcgv_RBjQ1YqiOTtRACjalN5XRDvkzAYalV7FgBlWgjyU1LqwKr3peJFOuzZH9Ve4d7cffu68ph7ERGnMS5UAqXQJ6lUuH2CbWsJCwdPHgPpwExipx41D7JrGWJXcEzhyYsK3GUzrvf7JJUdyyG8ZVcpJRuGzIugkxdePxpplu3f5O7AMwcvZmbxGkFVWYlU2wJspqWEouQolKIMfwOC9D2ynyQ0iIakwr8tBf_W4SSQqXkmoe-4FcflO67v__NGMZQHxvu76CuWNtAPYyGIUlLKTMxeiQqKwEvhunSLuPwm2d-SuajUiTBCicHVfFyiyM_WAIwAjeZIEqvDXNQzkwbkJ4SOybL9VRuh_BT9ndWAxUnaccIeHQdOrKrv44yLaYPMKJDNaOZPYPtGv9B5doYVNr2uBuz-56oVRB4f57oFmHpj03zeLMQnTObPlu1-VpnLHEhQoINSd22KNjt8=w3840-h1355-no?authuser=1)"
   ]
  },
  {
   "cell_type": "markdown",
   "id": "c3112e28",
   "metadata": {},
   "source": [
    "In Pandas, we reference specific columns like this:"
   ]
  },
  {
   "cell_type": "code",
   "execution_count": 39,
   "id": "59bf89c2",
   "metadata": {},
   "outputs": [
    {
     "data": {
      "text/plain": [
       "0            27957\n",
       "1            72090\n",
       "2             1330\n",
       "3            37766\n",
       "4             1250\n",
       "           ...    \n",
       "21591    236243092\n",
       "21592    231411384\n",
       "21593    259153975\n",
       "21594    231224298\n",
       "21595    178963321\n",
       "Name: constant_amount, Length: 21596, dtype: int64"
      ]
     },
     "execution_count": 39,
     "metadata": {},
     "output_type": "execute_result"
    }
   ],
   "source": [
    "df[\"constant_amount\"]"
   ]
  },
  {
   "cell_type": "markdown",
   "id": "a5784212",
   "metadata": {},
   "source": [
    "and we can apply functions to columns using the following notation:"
   ]
  },
  {
   "cell_type": "code",
   "execution_count": 40,
   "id": "ec8266b2",
   "metadata": {},
   "outputs": [
    {
     "data": {
      "text/plain": [
       "count         21596.00\n",
       "mean      253192917.24\n",
       "std      1198659635.29\n",
       "min      -444104019.00\n",
       "25%         2924260.00\n",
       "50%        26205987.50\n",
       "75%       113987205.75\n",
       "max     36454893874.00\n",
       "Name: constant_amount, dtype: float64"
      ]
     },
     "execution_count": 40,
     "metadata": {},
     "output_type": "execute_result"
    }
   ],
   "source": [
    "df[\"constant_amount\"].describe()"
   ]
  },
  {
   "cell_type": "markdown",
   "id": "97d4b728",
   "metadata": {},
   "source": [
    "Note that describe() is the Pandas function for getting descriptive statistics"
   ]
  },
  {
   "cell_type": "code",
   "execution_count": null,
   "id": "df8f0381",
   "metadata": {},
   "outputs": [],
   "source": []
  }
 ],
 "metadata": {
  "kernelspec": {
   "display_name": "Python 3",
   "language": "python",
   "name": "python3"
  },
  "language_info": {
   "codemirror_mode": {
    "name": "ipython",
    "version": 3
   },
   "file_extension": ".py",
   "mimetype": "text/x-python",
   "name": "python",
   "nbconvert_exporter": "python",
   "pygments_lexer": "ipython3",
   "version": "3.8.8"
  }
 },
 "nbformat": 4,
 "nbformat_minor": 5
}
